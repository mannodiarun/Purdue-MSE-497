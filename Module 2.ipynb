{
  "cells": [
    {
      "cell_type": "markdown",
      "id": "b5bf22df",
      "metadata": {
        "id": "b5bf22df"
      },
      "source": [
        "# MSE 497 - Python for Materials Engineers\n",
        "#### Instructors: Arun Mannodi and Michael Titus\n",
        "## Module 2 - Python Libraries and Data Handling"
      ]
    },
    {
      "cell_type": "markdown",
      "id": "77d283a3",
      "metadata": {
        "id": "77d283a3"
      },
      "source": [
        "## **1. Introduction to NumPy**\n",
        "\n",
        "**Why NumPy?**\n",
        "- Efficient handling of numerical data for scientific computing.\n",
        "- Arrays are faster and more versatile than Python lists for large datasets.\n",
        "\n",
        "**Key Features:**\n",
        "- Arrays: Multidimensional, homogeneous data structures.\n",
        "- Mathematical operations on arrays (vectorized operations).\n",
        "- Useful functions: `mean()`, `std()`, `linspace()`, `arange()`."
      ]
    },
    {
      "cell_type": "code",
      "execution_count": null,
      "id": "dbd9515c",
      "metadata": {
        "id": "dbd9515c",
        "outputId": "a4771957-3732-4e82-b385-80c4d2c10c03",
        "colab": {
          "base_uri": "https://localhost:8080/",
          "height": 211
        }
      },
      "outputs": [
        {
          "output_type": "error",
          "ename": "ValueError",
          "evalue": "operands could not be broadcast together with shapes (4,) (3,) ",
          "traceback": [
            "\u001b[0;31m---------------------------------------------------------------------------\u001b[0m",
            "\u001b[0;31mValueError\u001b[0m                                Traceback (most recent call last)",
            "\u001b[0;32m<ipython-input-9-ab3c06f2e9b8>\u001b[0m in \u001b[0;36m<cell line: 0>\u001b[0;34m()\u001b[0m\n\u001b[1;32m      6\u001b[0m \u001b[0;34m\u001b[0m\u001b[0m\n\u001b[1;32m      7\u001b[0m \u001b[0;31m# Calculate masses\u001b[0m\u001b[0;34m\u001b[0m\u001b[0;34m\u001b[0m\u001b[0m\n\u001b[0;32m----> 8\u001b[0;31m \u001b[0mmasses\u001b[0m \u001b[0;34m=\u001b[0m \u001b[0mdensities\u001b[0m \u001b[0;34m*\u001b[0m \u001b[0mvolumes\u001b[0m\u001b[0;34m\u001b[0m\u001b[0;34m\u001b[0m\u001b[0m\n\u001b[0m\u001b[1;32m      9\u001b[0m \u001b[0mprint\u001b[0m\u001b[0;34m(\u001b[0m\u001b[0;34m\"Masses (kg):\"\u001b[0m\u001b[0;34m,\u001b[0m \u001b[0mmasses\u001b[0m\u001b[0;34m)\u001b[0m\u001b[0;34m\u001b[0m\u001b[0;34m\u001b[0m\u001b[0m\n\u001b[1;32m     10\u001b[0m \u001b[0;34m\u001b[0m\u001b[0m\n",
            "\u001b[0;31mValueError\u001b[0m: operands could not be broadcast together with shapes (4,) (3,) "
          ]
        }
      ],
      "source": [
        "import numpy as np\n",
        "\n",
        "# Example: Densities of materials (kg/m^3)\n",
        "densities = np.array([7850, 2700, 1200])  # Steel, Aluminum, Polymer\n",
        "volumes = np.array([0.01, 0.02, 0.05])  # m^3\n",
        "\n",
        "# Calculate masses\n",
        "masses = densities * volumes\n",
        "print(\"Masses (kg):\", masses)\n",
        "\n",
        "# Statistical analysis\n",
        "mean_density = np.mean(densities)\n",
        "print(\"Mean Density:\", mean_density, \"kg/m^3\")"
      ]
    },
    {
      "cell_type": "code",
      "source": [],
      "metadata": {
        "id": "VwxwJTlo_BKc",
        "outputId": "4344e413-b7d1-489c-a5f6-92d72a63f64b",
        "colab": {
          "base_uri": "https://localhost:8080/"
        }
      },
      "id": "VwxwJTlo_BKc",
      "execution_count": null,
      "outputs": [
        {
          "output_type": "execute_result",
          "data": {
            "text/plain": [
              "array([ 0. ,  2.5,  5. ,  7.5, 10. ])"
            ]
          },
          "metadata": {},
          "execution_count": 11
        }
      ]
    },
    {
      "cell_type": "markdown",
      "id": "55e8e32c",
      "metadata": {
        "id": "55e8e32c"
      },
      "source": [
        "## **2. Introduction to Pandas**\n",
        "\n",
        "**Why Pandas?**\n",
        "- Easy manipulation and analysis of tabular data (like Excel).\n",
        "- Data structures: `DataFrame` (tables) and `Series` (columns).\n",
        "\n",
        "**Key Features:**\n",
        "- Import/export data (`read_csv()`, `to_csv()`).\n",
        "- Data filtering, grouping, and summarization."
      ]
    },
    {
      "cell_type": "code",
      "execution_count": null,
      "id": "856af45f",
      "metadata": {
        "id": "856af45f",
        "outputId": "b519de52-3311-4b0e-e75e-0e5464d60b57",
        "colab": {
          "base_uri": "https://localhost:8080/"
        }
      },
      "outputs": [
        {
          "output_type": "stream",
          "name": "stdout",
          "text": [
            "   Material  Density (kg/m^3)  Thermal Conductivity (W/mK)\n",
            "0     Steel              7850                        50.20\n",
            "1  Aluminum              2700                       205.00\n",
            "2   Polymer              1200                         0.25\n",
            "Mean Thermal Conductivity: 85.14999999999999\n",
            "\n",
            "Dense Materials:\n",
            "   Material  Density (kg/m^3)  Thermal Conductivity (W/mK)\n",
            "0     Steel              7850                         50.2\n",
            "1  Aluminum              2700                        205.0\n"
          ]
        }
      ],
      "source": [
        "import pandas as pd\n",
        "\n",
        "# Example: Create a DataFrame for material properties\n",
        "data = {\n",
        "    \"Material\": [\"Steel\", \"Aluminum\", \"Polymer\"],\n",
        "    \"Density (kg/m^3)\": [7850, 2700, 1200],\n",
        "    \"Thermal Conductivity (W/mK)\": [50.2, 205, 0.25]\n",
        "}\n",
        "\n",
        "df = pd.DataFrame(data)\n",
        "\n",
        "# Display the DataFrame\n",
        "print(df)\n",
        "\n",
        "# Calculate mean thermal conductivity\n",
        "mean_tc = df[\"Thermal Conductivity (W/mK)\"].mean()\n",
        "print(\"Mean Thermal Conductivity:\", mean_tc)\n",
        "\n",
        "# Filter materials with density > 2000 kg/m^3\n",
        "dense_materials = df[df[\"Density (kg/m^3)\"] > 2000]\n",
        "print(\"\\nDense Materials:\")\n",
        "print(dense_materials)"
      ]
    },
    {
      "cell_type": "code",
      "source": [
        "df.to_csv(\"material_properties.csv\")"
      ],
      "metadata": {
        "id": "k2MipYh-Bocw"
      },
      "id": "k2MipYh-Bocw",
      "execution_count": null,
      "outputs": []
    },
    {
      "cell_type": "code",
      "source": [
        "file = pd.read_csv(\"file.csv\")"
      ],
      "metadata": {
        "id": "zkLRxhlGCYf1"
      },
      "id": "zkLRxhlGCYf1",
      "execution_count": null,
      "outputs": []
    },
    {
      "cell_type": "code",
      "source": [
        "df2 = pd.DataFrame(file)"
      ],
      "metadata": {
        "id": "Qal7j1nICfW5"
      },
      "id": "Qal7j1nICfW5",
      "execution_count": null,
      "outputs": []
    },
    {
      "cell_type": "markdown",
      "id": "b58f8e9b",
      "metadata": {
        "id": "b58f8e9b"
      },
      "source": [
        "## **3. Introduction to Matplotlib**\n",
        "\n",
        "**Why Matplotlib?**\n",
        "- Create visualizations for data analysis and presentation.\n",
        "- Useful for plotting trends, distributions, and comparisons.\n",
        "\n",
        "**Key Features:**\n",
        "- `plot()`: Line plots.\n",
        "- `scatter()`: Scatter plots.\n",
        "- `bar()`: Bar charts.\n",
        "- Customization: Titles, labels, legends."
      ]
    },
    {
      "cell_type": "code",
      "execution_count": null,
      "id": "61549663",
      "metadata": {
        "id": "61549663",
        "outputId": "7663c62c-76dc-482c-bc36-5ad59e054334",
        "colab": {
          "base_uri": "https://localhost:8080/",
          "height": 472
        }
      },
      "outputs": [
        {
          "output_type": "display_data",
          "data": {
            "text/plain": [
              "<Figure size 640x480 with 1 Axes>"
            ],
            "image/png": "[encoded data removed]"
          },
          "metadata": {}
        }
      ],
      "source": [
        "import matplotlib.pyplot as plt\n",
        "\n",
        "# Example: Density and Thermal Conductivity\n",
        "materials = [\"Steel\", \"Aluminum\", \"Polymer\"]\n",
        "densities = [7850, 2700, 1200]\n",
        "thermal_conductivities = [50.2, 205, 0.25]\n",
        "temperature = [100,1000,2000]\n",
        "\n",
        "# Bar chart for densities\n",
        "# plt.bar(materials, densities, color=\"salmon\", width=0.8)\n",
        "# plt.title(\"Material Densities\", fontsize=24)\n",
        "# plt.ylabel(\"Density (kg/m^3)\")\n",
        "# plt.xlabel(\"Materials\")\n",
        "# plt.xlim(-0.8, 2.8)\n",
        "# plt.ylim(0, 10000)\n",
        "# plt.savefig(\"material_densities.png\")\n",
        "# plt.show()\n",
        "\n",
        "# Scatter plot for thermal conductivity\n",
        "plt.scatter(densities, thermal_conductivities, color=\"red\", label='Cond')\n",
        "plt.scatter(densities, temperature, color=\"blue\", label='Temp')\n",
        "plt.title(\"Thermal Conductivity vs Density\")\n",
        "plt.xlabel(\"Density (kg/m^3)\")\n",
        "plt.ylabel(\"Thermal Conductivity or Temperature\")\n",
        "plt.grid(True)\n",
        "#plt.legend([\"Cond\", \"Temp\"], loc=(0.9,0.5))\n",
        "plt.legend()\n",
        "plt.show()"
      ]
    },
    {
      "cell_type": "code",
      "source": [
        "plt.plot(densities, thermal_conductivities, color=\"red\", label='Cond', marker=\"*\", markersize=20)\n",
        "plt.plot(densities, temperature, color=\"blue\", label='Temp', marker=\"^\", markersize=10)"
      ],
      "metadata": {
        "id": "5hXtKNfPHZoa",
        "outputId": "9884d7bf-c7f2-45d0-8057-b827c4265795",
        "colab": {
          "base_uri": "https://localhost:8080/",
          "height": 447
        }
      },
      "id": "5hXtKNfPHZoa",
      "execution_count": null,
      "outputs": [
        {
          "output_type": "execute_result",
          "data": {
            "text/plain": [
              "[<matplotlib.lines.Line2D at 0x7b9924760c10>]"
            ]
          },
          "metadata": {},
          "execution_count": 66
        },
        {
          "output_type": "display_data",
          "data": {
            "text/plain": [
              "<Figure size 640x480 with 1 Axes>"
            ],
            "image/png": "[encoded data removed]"
          },
          "metadata": {}
        }
      ]
    },
    {
      "cell_type": "markdown",
      "id": "c4696f1c",
      "metadata": {
        "id": "c4696f1c"
      },
      "source": [
        "## **Suggested Workflow for Combined Usage**\n",
        "1. Use **Pandas** to load and manipulate material data.\n",
        "2. Use **NumPy** for numerical calculations (e.g., derive new properties).\n",
        "3. Use **Matplotlib** to visualize the results.\n",
        "\n"
      ]
    },
    {
      "cell_type": "code",
      "execution_count": 12,
      "id": "47df8daf",
      "metadata": {
        "id": "47df8daf",
        "outputId": "aba6d35f-0578-47fe-fe0d-2e2c97beb5c7",
        "colab": {
          "base_uri": "https://localhost:8080/",
          "height": 472
        }
      },
      "outputs": [
        {
          "output_type": "display_data",
          "data": {
            "text/plain": [
              "<Figure size 640x480 with 1 Axes>"
            ],
            "image/png": "[encoded data removed]"
          },
          "metadata": {}
        }
      ],
      "source": [
        "import pandas as pd\n",
        "import numpy as np\n",
        "import matplotlib.pyplot as plt\n",
        "\n",
        "# Step 1: Load Data\n",
        "data = {\n",
        "    \"Material\": [\"Steel\", \"Aluminum\", \"Polymer\"],\n",
        "    \"Density\": [7850, 2700, 1200],\n",
        "    \"Thermal Conductivity\": [50.2, 205, 0.25]\n",
        "}\n",
        "df = pd.DataFrame(data)\n",
        "\n",
        "# Step 2: Numerical Analysis\n",
        "densities = df[\"Density\"].to_numpy()\n",
        "thermal_conductivities = df[\"Thermal Conductivity\"].to_numpy()\n",
        "heat_storage = densities * thermal_conductivities\n",
        "\n",
        "# Step 3: Visualization\n",
        "plt.scatter(df[\"Material\"], densities*thermal_conductivities, marker=\"o\")\n",
        "plt.title(\"Heat Storage Capacity by Material\")\n",
        "plt.ylabel(\"Heat Storage\")\n",
        "plt.xlabel(\"Material\")\n",
        "plt.show()"
      ]
    },
    {
      "cell_type": "code",
      "source": [
        "df[\"heat_storage\"] = df[\"Density\"] * df[\"Thermal Conductivity\"]"
      ],
      "metadata": {
        "id": "13jvYHPEBUhN"
      },
      "id": "13jvYHPEBUhN",
      "execution_count": 7,
      "outputs": []
    },
    {
      "cell_type": "code",
      "source": [
        "df[\"heat_storage\"].mean()"
      ],
      "metadata": {
        "id": "Nco87dCRBkId",
        "outputId": "48c99a96-a4e0-46ec-a57b-6eed1690e02a",
        "colab": {
          "base_uri": "https://localhost:8080/"
        }
      },
      "id": "Nco87dCRBkId",
      "execution_count": 11,
      "outputs": [
        {
          "output_type": "execute_result",
          "data": {
            "text/plain": [
              "315956.6666666667"
            ]
          },
          "metadata": {},
          "execution_count": 11
        }
      ]
    },
    {
      "cell_type": "code",
      "source": [
        "import numpy as np\n",
        "\n",
        "heat_capacity = np.array([0.9, 0.45, 1.76, 0.79])\n",
        "mass = np.array([500, 2500, 1200, 2000])\n",
        "delta_T = np.array([100, 50, 200, 300])\n",
        "\n",
        "thermal_energy = heat_capacity * mass * delta_T\n",
        "print(\"energy in Joules = \", thermal_energy)"
      ],
      "metadata": {
        "id": "Cl0p1mhNB67T",
        "outputId": "b45391ff-21eb-404b-ef2b-28ccecc1fce7",
        "colab": {
          "base_uri": "https://localhost:8080/"
        }
      },
      "id": "Cl0p1mhNB67T",
      "execution_count": 15,
      "outputs": [
        {
          "output_type": "stream",
          "name": "stdout",
          "text": [
            "energy in Joules =  [ 45000.  56250. 422400. 474000.]\n"
          ]
        }
      ]
    },
    {
      "cell_type": "code",
      "source": [
        "import os"
      ],
      "metadata": {
        "id": "eF4mV_c2E7Ms"
      },
      "id": "eF4mV_c2E7Ms",
      "execution_count": 20,
      "outputs": []
    },
    {
      "cell_type": "code",
      "source": [
        "df = pd.read_csv(\"/material_properties.csv\")"
      ],
      "metadata": {
        "id": "OCSlGKjOFhzk"
      },
      "id": "OCSlGKjOFhzk",
      "execution_count": 27,
      "outputs": []
    },
    {
      "cell_type": "code",
      "source": [
        "df[\"Tensile Strength (MPa)\"].size"
      ],
      "metadata": {
        "id": "tOfc1gVkGFZN",
        "outputId": "d1ac980d-101c-4098-fdc1-6e17d8e4d23c",
        "colab": {
          "base_uri": "https://localhost:8080/"
        }
      },
      "id": "tOfc1gVkGFZN",
      "execution_count": 30,
      "outputs": [
        {
          "output_type": "execute_result",
          "data": {
            "text/plain": [
              "39"
            ]
          },
          "metadata": {},
          "execution_count": 30
        }
      ]
    },
    {
      "cell_type": "code",
      "source": [
        "avg_density = 0.0\n",
        "k = 0\n",
        "for i in range(0,39):\n",
        "  if df[\"Tensile Strength (MPa)\"][i] > 300:\n",
        "    avg_density += df[\"Density (g/cm^3)\"][i]\n",
        "    k=k+1\n",
        "avg_density = avg_density/k\n",
        "print(avg_density)"
      ],
      "metadata": {
        "id": "ycUZpp-NGr9d",
        "outputId": "2b523249-17c1-4e9f-c522-85c0575b20ad",
        "colab": {
          "base_uri": "https://localhost:8080/"
        }
      },
      "id": "ycUZpp-NGr9d",
      "execution_count": 35,
      "outputs": [
        {
          "output_type": "stream",
          "name": "stdout",
          "text": [
            "7.119565217391303\n"
          ]
        }
      ]
    },
    {
      "cell_type": "code",
      "source": [
        "import pandas as pd\n",
        "data = pd.read_csv(\"/material_properties.csv\")\n",
        "df = pd.DataFrame(data)\n",
        "filtered_data = df[data['Tensile Strength (MPa)']>300]\n",
        "filtered_data['Density (g/cm^3)'].mean()\n"
      ],
      "metadata": {
        "id": "qbP6DMWGH7if",
        "outputId": "8196b50c-db32-4541-fc27-ffa139650d9c",
        "colab": {
          "base_uri": "https://localhost:8080/"
        }
      },
      "id": "qbP6DMWGH7if",
      "execution_count": 41,
      "outputs": [
        {
          "output_type": "execute_result",
          "data": {
            "text/plain": [
              "7.119565217391303"
            ]
          },
          "metadata": {},
          "execution_count": 41
        }
      ]
    },
    {
      "cell_type": "code",
      "source": [
        "df[df[\"Tensile Strength (MPa)\"] > 300][\"Density (g/cm^3)\"].mean()"
      ],
      "metadata": {
        "id": "HT7tx2m9IvIM",
        "outputId": "98053521-3f21-4438-c119-cb7cd6064d30",
        "colab": {
          "base_uri": "https://localhost:8080/"
        }
      },
      "id": "HT7tx2m9IvIM",
      "execution_count": 40,
      "outputs": [
        {
          "output_type": "execute_result",
          "data": {
            "text/plain": [
              "7.119565217391303"
            ]
          },
          "metadata": {},
          "execution_count": 40
        }
      ]
    },
    {
      "cell_type": "code",
      "source": [
        "df"
      ],
      "metadata": {
        "id": "viKXXMfSHtUm",
        "outputId": "115c38f0-1c07-48e4-d32d-c8fd349094f6",
        "colab": {
          "base_uri": "https://localhost:8080/",
          "height": 1000
        }
      },
      "id": "viKXXMfSHtUm",
      "execution_count": 33,
      "outputs": [
        {
          "output_type": "execute_result",
          "data": {
            "text/plain": [
              "                       Material  Tensile Strength (MPa)  Density (g/cm^3)  \\\n",
              "0              Aluminum 6061-T6                     310              2.70   \n",
              "1          Titanium (Ti-6Al-4V)                     950              4.43   \n",
              "2           Stainless Steel 304                     550              8.00   \n",
              "3                        Copper                     210              8.96   \n",
              "4                Magnesium AZ31                     250              1.78   \n",
              "5                        Nickel                     600              8.90   \n",
              "6                          Zinc                     120              7.14   \n",
              "7                   Inconel 718                    1240              8.19   \n",
              "8             Brass (70Cu-30Zn)                     350              8.50   \n",
              "9                      Tungsten                     550             19.30   \n",
              "10                         Lead                      15             11.34   \n",
              "11                     Chromium                     275              7.19   \n",
              "12                  Iron (pure)                     220              7.87   \n",
              "13                   Mild Steel                     370              7.85   \n",
              "14                   Tool Steel                     800              7.85   \n",
              "15                       Cobalt                     760              8.90   \n",
              "16                     Vanadium                     690              6.11   \n",
              "17                   Molybdenum                     700             10.20   \n",
              "18                     Tantalum                     200             16.65   \n",
              "19                     Platinum                     125             21.45   \n",
              "20              Alumina (Al2O3)                     350              3.95   \n",
              "21              Zirconia (ZrO2)                     900              6.10   \n",
              "22        Silicon Carbide (SiC)                     400              3.20   \n",
              "23      Silicon Nitride (Si3N4)                     500              3.20   \n",
              "24          Boron Carbide (B4C)                     450              2.52   \n",
              "25            Glass (Soda-Lime)                      50              2.50   \n",
              "26                 Fused Quartz                      70              2.20   \n",
              "27                Boron Nitride                      35              2.25   \n",
              "28                      Mullite                     200              3.00   \n",
              "29             Spinel (MgAl2O4)                     150              3.60   \n",
              "30                   Cordierite                     100              2.60   \n",
              "31               Magnesia (MgO)                     100              3.58   \n",
              "32   Yttria-stabilized Zirconia                     700              6.10   \n",
              "33     Titanium Diboride (TiB2)                     700              4.52   \n",
              "34                Hafnia (HfO2)                     400              9.68   \n",
              "35                       Sialon                     600              3.20   \n",
              "36  Lanthanum Hexaboride (LaB6)                     350              4.72   \n",
              "37        Uranium Dioxide (UO2)                     150             10.97   \n",
              "38        Carbide Tungsten (WC)                     550             15.63   \n",
              "\n",
              "    Elastic Modulus (GPa)  \n",
              "0                      69  \n",
              "1                     110  \n",
              "2                     200  \n",
              "3                     110  \n",
              "4                      45  \n",
              "5                     200  \n",
              "6                     100  \n",
              "7                     205  \n",
              "8                     110  \n",
              "9                     400  \n",
              "10                     16  \n",
              "11                    279  \n",
              "12                    200  \n",
              "13                    210  \n",
              "14                    210  \n",
              "15                    210  \n",
              "16                    128  \n",
              "17                    330  \n",
              "18                    186  \n",
              "19                    168  \n",
              "20                    380  \n",
              "21                    210  \n",
              "22                    410  \n",
              "23                    310  \n",
              "24                    460  \n",
              "25                     70  \n",
              "26                     72  \n",
              "27                     30  \n",
              "28                    150  \n",
              "29                    280  \n",
              "30                    140  \n",
              "31                    200  \n",
              "32                    210  \n",
              "33                    560  \n",
              "34                    210  \n",
              "35                    320  \n",
              "36                    450  \n",
              "37                    200  \n",
              "38                    700  "
            ],
            "text/html": [
              "\n",
              "  <div id=\"df-7b90c4ca-9020-4fb9-bb84-8e93120c32ed\" class=\"colab-df-container\">\n",
              "    <div>\n",
              "<style scoped>\n",
              "    .dataframe tbody tr th:only-of-type {\n",
              "        vertical-align: middle;\n",
              "    }\n",
              "\n",
              "    .dataframe tbody tr th {\n",
              "        vertical-align: top;\n",
              "    }\n",
              "\n",
              "    .dataframe thead th {\n",
              "        text-align: right;\n",
              "    }\n",
              "</style>\n",
              "<table border=\"1\" class=\"dataframe\">\n",
              "  <thead>\n",
              "    <tr style=\"text-align: right;\">\n",
              "      <th></th>\n",
              "      <th>Material</th>\n",
              "      <th>Tensile Strength (MPa)</th>\n",
              "      <th>Density (g/cm^3)</th>\n",
              "      <th>Elastic Modulus (GPa)</th>\n",
              "    </tr>\n",
              "  </thead>\n",
              "  <tbody>\n",
              "    <tr>\n",
              "      <th>0</th>\n",
              "      <td>Aluminum 6061-T6</td>\n",
              "      <td>310</td>\n",
              "      <td>2.70</td>\n",
              "      <td>69</td>\n",
              "    </tr>\n",
              "    <tr>\n",
              "      <th>1</th>\n",
              "      <td>Titanium (Ti-6Al-4V)</td>\n",
              "      <td>950</td>\n",
              "      <td>4.43</td>\n",
              "      <td>110</td>\n",
              "    </tr>\n",
              "    <tr>\n",
              "      <th>2</th>\n",
              "      <td>Stainless Steel 304</td>\n",
              "      <td>550</td>\n",
              "      <td>8.00</td>\n",
              "      <td>200</td>\n",
              "    </tr>\n",
              "    <tr>\n",
              "      <th>3</th>\n",
              "      <td>Copper</td>\n",
              "      <td>210</td>\n",
              "      <td>8.96</td>\n",
              "      <td>110</td>\n",
              "    </tr>\n",
              "    <tr>\n",
              "      <th>4</th>\n",
              "      <td>Magnesium AZ31</td>\n",
              "      <td>250</td>\n",
              "      <td>1.78</td>\n",
              "      <td>45</td>\n",
              "    </tr>\n",
              "    <tr>\n",
              "      <th>5</th>\n",
              "      <td>Nickel</td>\n",
              "      <td>600</td>\n",
              "      <td>8.90</td>\n",
              "      <td>200</td>\n",
              "    </tr>\n",
              "    <tr>\n",
              "      <th>6</th>\n",
              "      <td>Zinc</td>\n",
              "      <td>120</td>\n",
              "      <td>7.14</td>\n",
              "      <td>100</td>\n",
              "    </tr>\n",
              "    <tr>\n",
              "      <th>7</th>\n",
              "      <td>Inconel 718</td>\n",
              "      <td>1240</td>\n",
              "      <td>8.19</td>\n",
              "      <td>205</td>\n",
              "    </tr>\n",
              "    <tr>\n",
              "      <th>8</th>\n",
              "      <td>Brass (70Cu-30Zn)</td>\n",
              "      <td>350</td>\n",
              "      <td>8.50</td>\n",
              "      <td>110</td>\n",
              "    </tr>\n",
              "    <tr>\n",
              "      <th>9</th>\n",
              "      <td>Tungsten</td>\n",
              "      <td>550</td>\n",
              "      <td>19.30</td>\n",
              "      <td>400</td>\n",
              "    </tr>\n",
              "    <tr>\n",
              "      <th>10</th>\n",
              "      <td>Lead</td>\n",
              "      <td>15</td>\n",
              "      <td>11.34</td>\n",
              "      <td>16</td>\n",
              "    </tr>\n",
              "    <tr>\n",
              "      <th>11</th>\n",
              "      <td>Chromium</td>\n",
              "      <td>275</td>\n",
              "      <td>7.19</td>\n",
              "      <td>279</td>\n",
              "    </tr>\n",
              "    <tr>\n",
              "      <th>12</th>\n",
              "      <td>Iron (pure)</td>\n",
              "      <td>220</td>\n",
              "      <td>7.87</td>\n",
              "      <td>200</td>\n",
              "    </tr>\n",
              "    <tr>\n",
              "      <th>13</th>\n",
              "      <td>Mild Steel</td>\n",
              "      <td>370</td>\n",
              "      <td>7.85</td>\n",
              "      <td>210</td>\n",
              "    </tr>\n",
              "    <tr>\n",
              "      <th>14</th>\n",
              "      <td>Tool Steel</td>\n",
              "      <td>800</td>\n",
              "      <td>7.85</td>\n",
              "      <td>210</td>\n",
              "    </tr>\n",
              "    <tr>\n",
              "      <th>15</th>\n",
              "      <td>Cobalt</td>\n",
              "      <td>760</td>\n",
              "      <td>8.90</td>\n",
              "      <td>210</td>\n",
              "    </tr>\n",
              "    <tr>\n",
              "      <th>16</th>\n",
              "      <td>Vanadium</td>\n",
              "      <td>690</td>\n",
              "      <td>6.11</td>\n",
              "      <td>128</td>\n",
              "    </tr>\n",
              "    <tr>\n",
              "      <th>17</th>\n",
              "      <td>Molybdenum</td>\n",
              "      <td>700</td>\n",
              "      <td>10.20</td>\n",
              "      <td>330</td>\n",
              "    </tr>\n",
              "    <tr>\n",
              "      <th>18</th>\n",
              "      <td>Tantalum</td>\n",
              "      <td>200</td>\n",
              "      <td>16.65</td>\n",
              "      <td>186</td>\n",
              "    </tr>\n",
              "    <tr>\n",
              "      <th>19</th>\n",
              "      <td>Platinum</td>\n",
              "      <td>125</td>\n",
              "      <td>21.45</td>\n",
              "      <td>168</td>\n",
              "    </tr>\n",
              "    <tr>\n",
              "      <th>20</th>\n",
              "      <td>Alumina (Al2O3)</td>\n",
              "      <td>350</td>\n",
              "      <td>3.95</td>\n",
              "      <td>380</td>\n",
              "    </tr>\n",
              "    <tr>\n",
              "      <th>21</th>\n",
              "      <td>Zirconia (ZrO2)</td>\n",
              "      <td>900</td>\n",
              "      <td>6.10</td>\n",
              "      <td>210</td>\n",
              "    </tr>\n",
              "    <tr>\n",
              "      <th>22</th>\n",
              "      <td>Silicon Carbide (SiC)</td>\n",
              "      <td>400</td>\n",
              "      <td>3.20</td>\n",
              "      <td>410</td>\n",
              "    </tr>\n",
              "    <tr>\n",
              "      <th>23</th>\n",
              "      <td>Silicon Nitride (Si3N4)</td>\n",
              "      <td>500</td>\n",
              "      <td>3.20</td>\n",
              "      <td>310</td>\n",
              "    </tr>\n",
              "    <tr>\n",
              "      <th>24</th>\n",
              "      <td>Boron Carbide (B4C)</td>\n",
              "      <td>450</td>\n",
              "      <td>2.52</td>\n",
              "      <td>460</td>\n",
              "    </tr>\n",
              "    <tr>\n",
              "      <th>25</th>\n",
              "      <td>Glass (Soda-Lime)</td>\n",
              "      <td>50</td>\n",
              "      <td>2.50</td>\n",
              "      <td>70</td>\n",
              "    </tr>\n",
              "    <tr>\n",
              "      <th>26</th>\n",
              "      <td>Fused Quartz</td>\n",
              "      <td>70</td>\n",
              "      <td>2.20</td>\n",
              "      <td>72</td>\n",
              "    </tr>\n",
              "    <tr>\n",
              "      <th>27</th>\n",
              "      <td>Boron Nitride</td>\n",
              "      <td>35</td>\n",
              "      <td>2.25</td>\n",
              "      <td>30</td>\n",
              "    </tr>\n",
              "    <tr>\n",
              "      <th>28</th>\n",
              "      <td>Mullite</td>\n",
              "      <td>200</td>\n",
              "      <td>3.00</td>\n",
              "      <td>150</td>\n",
              "    </tr>\n",
              "    <tr>\n",
              "      <th>29</th>\n",
              "      <td>Spinel (MgAl2O4)</td>\n",
              "      <td>150</td>\n",
              "      <td>3.60</td>\n",
              "      <td>280</td>\n",
              "    </tr>\n",
              "    <tr>\n",
              "      <th>30</th>\n",
              "      <td>Cordierite</td>\n",
              "      <td>100</td>\n",
              "      <td>2.60</td>\n",
              "      <td>140</td>\n",
              "    </tr>\n",
              "    <tr>\n",
              "      <th>31</th>\n",
              "      <td>Magnesia (MgO)</td>\n",
              "      <td>100</td>\n",
              "      <td>3.58</td>\n",
              "      <td>200</td>\n",
              "    </tr>\n",
              "    <tr>\n",
              "      <th>32</th>\n",
              "      <td>Yttria-stabilized Zirconia</td>\n",
              "      <td>700</td>\n",
              "      <td>6.10</td>\n",
              "      <td>210</td>\n",
              "    </tr>\n",
              "    <tr>\n",
              "      <th>33</th>\n",
              "      <td>Titanium Diboride (TiB2)</td>\n",
              "      <td>700</td>\n",
              "      <td>4.52</td>\n",
              "      <td>560</td>\n",
              "    </tr>\n",
              "    <tr>\n",
              "      <th>34</th>\n",
              "      <td>Hafnia (HfO2)</td>\n",
              "      <td>400</td>\n",
              "      <td>9.68</td>\n",
              "      <td>210</td>\n",
              "    </tr>\n",
              "    <tr>\n",
              "      <th>35</th>\n",
              "      <td>Sialon</td>\n",
              "      <td>600</td>\n",
              "      <td>3.20</td>\n",
              "      <td>320</td>\n",
              "    </tr>\n",
              "    <tr>\n",
              "      <th>36</th>\n",
              "      <td>Lanthanum Hexaboride (LaB6)</td>\n",
              "      <td>350</td>\n",
              "      <td>4.72</td>\n",
              "      <td>450</td>\n",
              "    </tr>\n",
              "    <tr>\n",
              "      <th>37</th>\n",
              "      <td>Uranium Dioxide (UO2)</td>\n",
              "      <td>150</td>\n",
              "      <td>10.97</td>\n",
              "      <td>200</td>\n",
              "    </tr>\n",
              "    <tr>\n",
              "      <th>38</th>\n",
              "      <td>Carbide Tungsten (WC)</td>\n",
              "      <td>550</td>\n",
              "      <td>15.63</td>\n",
              "      <td>700</td>\n",
              "    </tr>\n",
              "  </tbody>\n",
              "</table>\n",
              "</div>\n",
              "    <div class=\"colab-df-buttons\">\n",
              "\n",
              "  <div class=\"colab-df-container\">\n",
              "    <button class=\"colab-df-convert\" onclick=\"convertToInteractive('df-7b90c4ca-9020-4fb9-bb84-8e93120c32ed')\"\n",
              "            title=\"Convert this dataframe to an interactive table.\"\n",
              "            style=\"display:none;\">\n",
              "\n",
              "  <svg xmlns=\"http://www.w3.org/2000/svg\" height=\"24px\" viewBox=\"0 -960 960 960\">\n",
              "    <path d=\"M120-120v-720h720v720H120Zm60-500h600v-160H180v160Zm220 220h160v-160H400v160Zm0 220h160v-160H400v160ZM180-400h160v-160H180v160Zm440 0h160v-160H620v160ZM180-180h160v-160H180v160Zm440 0h160v-160H620v160Z\"/>\n",
              "  </svg>\n",
              "    </button>\n",
              "\n",
              "  <style>\n",
              "    .colab-df-container {\n",
              "      display:flex;\n",
              "      gap: 12px;\n",
              "    }\n",
              "\n",
              "    .colab-df-convert {\n",
              "      background-color: #E8F0FE;\n",
              "      border: none;\n",
              "      border-radius: 50%;\n",
              "      cursor: pointer;\n",
              "      display: none;\n",
              "      fill: #1967D2;\n",
              "      height: 32px;\n",
              "      padding: 0 0 0 0;\n",
              "      width: 32px;\n",
              "    }\n",
              "\n",
              "    .colab-df-convert:hover {\n",
              "      background-color: #E2EBFA;\n",
              "      box-shadow: 0px 1px 2px rgba(60, 64, 67, 0.3), 0px 1px 3px 1px rgba(60, 64, 67, 0.15);\n",
              "      fill: #174EA6;\n",
              "    }\n",
              "\n",
              "    .colab-df-buttons div {\n",
              "      margin-bottom: 4px;\n",
              "    }\n",
              "\n",
              "    [theme=dark] .colab-df-convert {\n",
              "      background-color: #3B4455;\n",
              "      fill: #D2E3FC;\n",
              "    }\n",
              "\n",
              "    [theme=dark] .colab-df-convert:hover {\n",
              "      background-color: #434B5C;\n",
              "      box-shadow: 0px 1px 3px 1px rgba(0, 0, 0, 0.15);\n",
              "      filter: drop-shadow(0px 1px 2px rgba(0, 0, 0, 0.3));\n",
              "      fill: #FFFFFF;\n",
              "    }\n",
              "  </style>\n",
              "\n",
              "    <script>\n",
              "      const buttonEl =\n",
              "        document.querySelector('#df-7b90c4ca-9020-4fb9-bb84-8e93120c32ed button.colab-df-convert');\n",
              "      buttonEl.style.display =\n",
              "        google.colab.kernel.accessAllowed ? 'block' : 'none';\n",
              "\n",
              "      async function convertToInteractive(key) {\n",
              "        const element = document.querySelector('#df-7b90c4ca-9020-4fb9-bb84-8e93120c32ed');\n",
              "        const dataTable =\n",
              "          await google.colab.kernel.invokeFunction('convertToInteractive',\n",
              "                                                    [key], {});\n",
              "        if (!dataTable) return;\n",
              "\n",
              "        const docLinkHtml = 'Like what you see? Visit the ' +\n",
              "          '<a target=\"_blank\" href=https://colab.research.google.com/notebooks/data_table.ipynb>data table notebook</a>'\n",
              "          + ' to learn more about interactive tables.';\n",
              "        element.innerHTML = '';\n",
              "        dataTable['output_type'] = 'display_data';\n",
              "        await google.colab.output.renderOutput(dataTable, element);\n",
              "        const docLink = document.createElement('div');\n",
              "        docLink.innerHTML = docLinkHtml;\n",
              "        element.appendChild(docLink);\n",
              "      }\n",
              "    </script>\n",
              "  </div>\n",
              "\n",
              "\n",
              "<div id=\"df-0e671c19-2a1b-4611-9857-22ae16e62e71\">\n",
              "  <button class=\"colab-df-quickchart\" onclick=\"quickchart('df-0e671c19-2a1b-4611-9857-22ae16e62e71')\"\n",
              "            title=\"Suggest charts\"\n",
              "            style=\"display:none;\">\n",
              "\n",
              "<svg xmlns=\"http://www.w3.org/2000/svg\" height=\"24px\"viewBox=\"0 0 24 24\"\n",
              "     width=\"24px\">\n",
              "    <g>\n",
              "        <path d=\"M19 3H5c-1.1 0-2 .9-2 2v14c0 1.1.9 2 2 2h14c1.1 0 2-.9 2-2V5c0-1.1-.9-2-2-2zM9 17H7v-7h2v7zm4 0h-2V7h2v10zm4 0h-2v-4h2v4z\"/>\n",
              "    </g>\n",
              "</svg>\n",
              "  </button>\n",
              "\n",
              "<style>\n",
              "  .colab-df-quickchart {\n",
              "      --bg-color: #E8F0FE;\n",
              "      --fill-color: #1967D2;\n",
              "      --hover-bg-color: #E2EBFA;\n",
              "      --hover-fill-color: #174EA6;\n",
              "      --disabled-fill-color: #AAA;\n",
              "      --disabled-bg-color: #DDD;\n",
              "  }\n",
              "\n",
              "  [theme=dark] .colab-df-quickchart {\n",
              "      --bg-color: #3B4455;\n",
              "      --fill-color: #D2E3FC;\n",
              "      --hover-bg-color: #434B5C;\n",
              "      --hover-fill-color: #FFFFFF;\n",
              "      --disabled-bg-color: #3B4455;\n",
              "      --disabled-fill-color: #666;\n",
              "  }\n",
              "\n",
              "  .colab-df-quickchart {\n",
              "    background-color: var(--bg-color);\n",
              "    border: none;\n",
              "    border-radius: 50%;\n",
              "    cursor: pointer;\n",
              "    display: none;\n",
              "    fill: var(--fill-color);\n",
              "    height: 32px;\n",
              "    padding: 0;\n",
              "    width: 32px;\n",
              "  }\n",
              "\n",
              "  .colab-df-quickchart:hover {\n",
              "    background-color: var(--hover-bg-color);\n",
              "    box-shadow: 0 1px 2px rgba(60, 64, 67, 0.3), 0 1px 3px 1px rgba(60, 64, 67, 0.15);\n",
              "    fill: var(--button-hover-fill-color);\n",
              "  }\n",
              "\n",
              "  .colab-df-quickchart-complete:disabled,\n",
              "  .colab-df-quickchart-complete:disabled:hover {\n",
              "    background-color: var(--disabled-bg-color);\n",
              "    fill: var(--disabled-fill-color);\n",
              "    box-shadow: none;\n",
              "  }\n",
              "\n",
              "  .colab-df-spinner {\n",
              "    border: 2px solid var(--fill-color);\n",
              "    border-color: transparent;\n",
              "    border-bottom-color: var(--fill-color);\n",
              "    animation:\n",
              "      spin 1s steps(1) infinite;\n",
              "  }\n",
              "\n",
              "  @keyframes spin {\n",
              "    0% {\n",
              "      border-color: transparent;\n",
              "      border-bottom-color: var(--fill-color);\n",
              "      border-left-color: var(--fill-color);\n",
              "    }\n",
              "    20% {\n",
              "      border-color: transparent;\n",
              "      border-left-color: var(--fill-color);\n",
              "      border-top-color: var(--fill-color);\n",
              "    }\n",
              "    30% {\n",
              "      border-color: transparent;\n",
              "      border-left-color: var(--fill-color);\n",
              "      border-top-color: var(--fill-color);\n",
              "      border-right-color: var(--fill-color);\n",
              "    }\n",
              "    40% {\n",
              "      border-color: transparent;\n",
              "      border-right-color: var(--fill-color);\n",
              "      border-top-color: var(--fill-color);\n",
              "    }\n",
              "    60% {\n",
              "      border-color: transparent;\n",
              "      border-right-color: var(--fill-color);\n",
              "    }\n",
              "    80% {\n",
              "      border-color: transparent;\n",
              "      border-right-color: var(--fill-color);\n",
              "      border-bottom-color: var(--fill-color);\n",
              "    }\n",
              "    90% {\n",
              "      border-color: transparent;\n",
              "      border-bottom-color: var(--fill-color);\n",
              "    }\n",
              "  }\n",
              "</style>\n",
              "\n",
              "  <script>\n",
              "    async function quickchart(key) {\n",
              "      const quickchartButtonEl =\n",
              "        document.querySelector('#' + key + ' button');\n",
              "      quickchartButtonEl.disabled = true;  // To prevent multiple clicks.\n",
              "      quickchartButtonEl.classList.add('colab-df-spinner');\n",
              "      try {\n",
              "        const charts = await google.colab.kernel.invokeFunction(\n",
              "            'suggestCharts', [key], {});\n",
              "      } catch (error) {\n",
              "        console.error('Error during call to suggestCharts:', error);\n",
              "      }\n",
              "      quickchartButtonEl.classList.remove('colab-df-spinner');\n",
              "      quickchartButtonEl.classList.add('colab-df-quickchart-complete');\n",
              "    }\n",
              "    (() => {\n",
              "      let quickchartButtonEl =\n",
              "        document.querySelector('#df-0e671c19-2a1b-4611-9857-22ae16e62e71 button');\n",
              "      quickchartButtonEl.style.display =\n",
              "        google.colab.kernel.accessAllowed ? 'block' : 'none';\n",
              "    })();\n",
              "  </script>\n",
              "</div>\n",
              "\n",
              "  <div id=\"id_47e0f642-9540-46c9-9595-642873a7ec4a\">\n",
              "    <style>\n",
              "      .colab-df-generate {\n",
              "        background-color: #E8F0FE;\n",
              "        border: none;\n",
              "        border-radius: 50%;\n",
              "        cursor: pointer;\n",
              "        display: none;\n",
              "        fill: #1967D2;\n",
              "        height: 32px;\n",
              "        padding: 0 0 0 0;\n",
              "        width: 32px;\n",
              "      }\n",
              "\n",
              "      .colab-df-generate:hover {\n",
              "        background-color: #E2EBFA;\n",
              "        box-shadow: 0px 1px 2px rgba(60, 64, 67, 0.3), 0px 1px 3px 1px rgba(60, 64, 67, 0.15);\n",
              "        fill: #174EA6;\n",
              "      }\n",
              "\n",
              "      [theme=dark] .colab-df-generate {\n",
              "        background-color: #3B4455;\n",
              "        fill: #D2E3FC;\n",
              "      }\n",
              "\n",
              "      [theme=dark] .colab-df-generate:hover {\n",
              "        background-color: #434B5C;\n",
              "        box-shadow: 0px 1px 3px 1px rgba(0, 0, 0, 0.15);\n",
              "        filter: drop-shadow(0px 1px 2px rgba(0, 0, 0, 0.3));\n",
              "        fill: #FFFFFF;\n",
              "      }\n",
              "    </style>\n",
              "    <button class=\"colab-df-generate\" onclick=\"generateWithVariable('df')\"\n",
              "            title=\"Generate code using this dataframe.\"\n",
              "            style=\"display:none;\">\n",
              "\n",
              "  <svg xmlns=\"http://www.w3.org/2000/svg\" height=\"24px\"viewBox=\"0 0 24 24\"\n",
              "       width=\"24px\">\n",
              "    <path d=\"M7,19H8.4L18.45,9,17,7.55,7,17.6ZM5,21V16.75L18.45,3.32a2,2,0,0,1,2.83,0l1.4,1.43a1.91,1.91,0,0,1,.58,1.4,1.91,1.91,0,0,1-.58,1.4L9.25,21ZM18.45,9,17,7.55Zm-12,3A5.31,5.31,0,0,0,4.9,8.1,5.31,5.31,0,0,0,1,6.5,5.31,5.31,0,0,0,4.9,4.9,5.31,5.31,0,0,0,6.5,1,5.31,5.31,0,0,0,8.1,4.9,5.31,5.31,0,0,0,12,6.5,5.46,5.46,0,0,0,6.5,12Z\"/>\n",
              "  </svg>\n",
              "    </button>\n",
              "    <script>\n",
              "      (() => {\n",
              "      const buttonEl =\n",
              "        document.querySelector('#id_47e0f642-9540-46c9-9595-642873a7ec4a button.colab-df-generate');\n",
              "      buttonEl.style.display =\n",
              "        google.colab.kernel.accessAllowed ? 'block' : 'none';\n",
              "\n",
              "      buttonEl.onclick = () => {\n",
              "        google.colab.notebook.generateWithVariable('df');\n",
              "      }\n",
              "      })();\n",
              "    </script>\n",
              "  </div>\n",
              "\n",
              "    </div>\n",
              "  </div>\n"
            ],
            "application/vnd.google.colaboratory.intrinsic+json": {
              "type": "dataframe",
              "variable_name": "df",
              "summary": "{\n  \"name\": \"df\",\n  \"rows\": 39,\n  \"fields\": [\n    {\n      \"column\": \"Material\",\n      \"properties\": {\n        \"dtype\": \"string\",\n        \"num_unique_values\": 39,\n        \"samples\": [\n          \"Titanium Diboride (TiB2)\",\n          \"Lanthanum Hexaboride (LaB6)\",\n          \"Magnesium AZ31\"\n        ],\n        \"semantic_type\": \"\",\n        \"description\": \"\"\n      }\n    },\n    {\n      \"column\": \"Tensile Strength (MPa)\",\n      \"properties\": {\n        \"dtype\": \"number\",\n        \"std\": 291,\n        \"min\": 15,\n        \"max\": 1240,\n        \"num_unique_values\": 28,\n        \"samples\": [\n          15,\n          35,\n          350\n        ],\n        \"semantic_type\": \"\",\n        \"description\": \"\"\n      }\n    },\n    {\n      \"column\": \"Density (g/cm^3)\",\n      \"properties\": {\n        \"dtype\": \"number\",\n        \"std\": 4.758886353469283,\n        \"min\": 1.78,\n        \"max\": 21.45,\n        \"num_unique_values\": 34,\n        \"samples\": [\n          10.2,\n          6.1,\n          2.6\n        ],\n        \"semantic_type\": \"\",\n        \"description\": \"\"\n      }\n    },\n    {\n      \"column\": \"Elastic Modulus (GPa)\",\n      \"properties\": {\n        \"dtype\": \"number\",\n        \"std\": 148,\n        \"min\": 16,\n        \"max\": 700,\n        \"num_unique_values\": 28,\n        \"samples\": [\n          210,\n          320,\n          279\n        ],\n        \"semantic_type\": \"\",\n        \"description\": \"\"\n      }\n    }\n  ]\n}"
            }
          },
          "metadata": {},
          "execution_count": 33
        }
      ]
    },
    {
      "cell_type": "markdown",
      "id": "c87ecbde",
      "metadata": {
        "id": "c87ecbde"
      },
      "source": [
        "**Practice Questions:**\n",
        "- Use NumPy to calculate the thermal energy stored in a material given its heat capacity, mass, and temperature change.\n",
        "- Import a CSV file of material properties, filter materials with tensile strength above 300 MPa, and calculate the average density.\n",
        "- Plot stress-strain curves for different materials using random data and customize the graph (title, labels, legend)."
      ]
    },
    {
      "cell_type": "markdown",
      "id": "866564f6",
      "metadata": {
        "id": "866564f6"
      },
      "source": [
        "## **4. Introduction to Scikit-learn**\n",
        "\n",
        "**Why Scikit-learn?**\n",
        "- A powerful library for machine learning and data analysis.\n",
        "- Ideal for regression, classification, clustering, and preprocessing tasks.\n",
        "\n",
        "**Key Features:**\n",
        "- Simple APIs for implementing machine learning models.\n",
        "- Includes tools for data preprocessing, model training, evaluation, and prediction.\n",
        "\n"
      ]
    },
    {
      "cell_type": "code",
      "execution_count": 43,
      "id": "d662c666",
      "metadata": {
        "id": "d662c666",
        "outputId": "1cbc199c-a68f-42f3-eda2-60e4f1f83ebf",
        "colab": {
          "base_uri": "https://localhost:8080/"
        }
      },
      "outputs": [
        {
          "output_type": "stream",
          "name": "stdout",
          "text": [
            "Predicted Strength for density 6000 kg/m^3: 326.41 MPa\n"
          ]
        }
      ],
      "source": [
        "#Linear Regression: Predicting Strength from Density**\n",
        "from sklearn.linear_model import LinearRegression\n",
        "import numpy as np\n",
        "\n",
        "# Data: Densities (kg/m^3) and Strengths (MPa)\n",
        "densities = np.array([7850, 2700, 1200, 5000, 2000]).reshape(-1, 1)  # Reshaped for sklearn\n",
        "strengths = np.array([400, 200, 50, 300, 100])  # Corresponding strengths\n",
        "\n",
        "# Model Training\n",
        "model = LinearRegression()\n",
        "model.fit(densities, strengths)\n",
        "\n",
        "# Predictions\n",
        "new_density = np.array([[6000]])  # New material density\n",
        "predicted_strength = model.predict(new_density)\n",
        "print(f\"Predicted Strength for density 6000 kg/m^3: {predicted_strength[0]:.2f} MPa\")\n",
        "\n",
        "\n"
      ]
    },
    {
      "cell_type": "code",
      "source": [
        "plt.scatter(densities, strengths, c='r')\n",
        "plt.plot(densities, model.predict(densities), c='b')\n",
        "plt.show()"
      ],
      "metadata": {
        "id": "Rg45zsTVJhOw",
        "outputId": "e5f56d0b-aa1a-43b3-d810-7dce4d97f4a3",
        "colab": {
          "base_uri": "https://localhost:8080/",
          "height": 430
        }
      },
      "id": "Rg45zsTVJhOw",
      "execution_count": 55,
      "outputs": [
        {
          "output_type": "display_data",
          "data": {
            "text/plain": [
              "<Figure size 640x480 with 1 Axes>"
            ],
            "image/png": "[encoded data removed]"
          },
          "metadata": {}
        }
      ]
    },
    {
      "cell_type": "code",
      "source": [
        "model.intercept_"
      ],
      "metadata": {
        "id": "nIGXzccbLSZF",
        "outputId": "0f4a76e1-424c-44dc-ae05-6b6dd96a5da1",
        "colab": {
          "base_uri": "https://localhost:8080/"
        }
      },
      "id": "nIGXzccbLSZF",
      "execution_count": 56,
      "outputs": [
        {
          "output_type": "execute_result",
          "data": {
            "text/plain": [
              "15.978822314049609"
            ]
          },
          "metadata": {},
          "execution_count": 56
        }
      ]
    },
    {
      "cell_type": "markdown",
      "id": "bae766fa",
      "metadata": {
        "id": "bae766fa"
      },
      "source": [
        "**Key Points:**\n",
        "- Emphasize the simplicity of `.fit()` and `.predict()` methods.\n",
        "- Discuss applications, e.g., predicting properties based on experimental data.\n"
      ]
    },
    {
      "cell_type": "code",
      "execution_count": null,
      "id": "315bf52d",
      "metadata": {
        "id": "315bf52d"
      },
      "outputs": [],
      "source": [
        "#Data Preprocessing with Scikit-learn\n",
        "from sklearn.preprocessing import StandardScaler\n",
        "\n",
        "# Example: Scaling material properties\n",
        "properties = np.array([[7850, 400], [2700, 200], [1200, 50]])  # Density, Strength\n",
        "scaler = StandardScaler()\n",
        "scaled_properties = scaler.fit_transform(properties)\n",
        "print(\"Scaled Properties:\\n\", scaled_properties)"
      ]
    },
    {
      "cell_type": "markdown",
      "id": "071a9880",
      "metadata": {
        "id": "071a9880"
      },
      "source": [
        "## **5. Introduction to SciPy**\n",
        "\n",
        "**Why SciPy?**\n",
        "- A library for scientific computing that builds on NumPy.\n",
        "- Includes modules for optimization, integration, interpolation, signal processing, and more.\n",
        "\n",
        "**Key Features:**\n",
        "- Optimization (`scipy.optimize`)\n",
        "- Integration (`scipy.integrate`)\n",
        "- Solving differential equations (`scipy.integrate.odeint`)\n",
        "- Statistical analysis (`scipy.stats`)\n",
        "\n"
      ]
    },
    {
      "cell_type": "code",
      "execution_count": null,
      "id": "898793c6",
      "metadata": {
        "id": "898793c6"
      },
      "outputs": [],
      "source": [
        "#Curve Fitting (Stress-Strain Relationship)**\n",
        "import numpy as np\n",
        "from scipy.optimize import curve_fit\n",
        "import matplotlib.pyplot as plt\n",
        "\n",
        "# Experimental stress-strain data\n",
        "strain = np.array([0.0, 0.01, 0.02, 0.03, 0.04])\n",
        "stress = np.array([0, 200, 400, 600, 800])\n",
        "\n",
        "# Linear model\n",
        "def linear_model(x, E):\n",
        "    return E * x  # Hooke's law: Stress = E * Strain\n",
        "\n",
        "# Fit the model\n",
        "popt, _ = curve_fit(linear_model, strain, stress)\n",
        "E_fitted = popt[0]\n",
        "print(f\"Fitted Young's Modulus: {E_fitted:.2f} MPa\")\n",
        "\n",
        "# Plot the data and the fitted model\n",
        "plt.scatter(strain, stress, label=\"Data\")\n",
        "plt.plot(strain, linear_model(strain, E_fitted), label=f\"Fitted (E={E_fitted:.2f} MPa)\", color=\"red\")\n",
        "plt.xlabel(\"Strain\")\n",
        "plt.ylabel(\"Stress\")\n",
        "plt.legend()\n",
        "plt.show()"
      ]
    },
    {
      "cell_type": "markdown",
      "id": "6f542c6f",
      "metadata": {
        "id": "6f542c6f"
      },
      "source": [
        "**Key Points:**\n",
        "- Introduce the `curve_fit` method for parameter estimation.\n",
        "- Discuss how to interpret fitted parameters in a materials science context.\n"
      ]
    },
    {
      "cell_type": "code",
      "execution_count": null,
      "id": "03435324",
      "metadata": {
        "id": "03435324"
      },
      "outputs": [],
      "source": [
        "#Solving Differential Equations (Heat Transfer)**\n",
        "from scipy.integrate import odeint\n",
        "import numpy as np\n",
        "import matplotlib.pyplot as plt\n",
        "\n",
        "# Heat transfer model: dT/dt = -k * T\n",
        "def heat_transfer(T, t, k):\n",
        "    return -k * T\n",
        "\n",
        "# Parameters\n",
        "k = 0.1  # Heat transfer coefficient\n",
        "T0 = 100  # Initial temperature\n",
        "time = np.linspace(0, 50, 100)  # Time points\n",
        "\n",
        "# Solve ODE\n",
        "temperature = odeint(heat_transfer, T0, time, args=(k,))\n",
        "\n",
        "# Plot\n",
        "plt.plot(time, temperature)\n",
        "plt.title(\"Cooling Curve\")\n",
        "plt.xlabel(\"Time (s)\")\n",
        "plt.ylabel(\"Temperature (°C)\")\n",
        "plt.show()"
      ]
    },
    {
      "cell_type": "markdown",
      "id": "7a13dc98",
      "metadata": {
        "id": "7a13dc98"
      },
      "source": [
        "**Key Points:**\n",
        "- Highlight SciPy’s versatility for solving physical models.\n",
        "- Relate to practical problems like cooling rates or reaction kinetics."
      ]
    },
    {
      "cell_type": "markdown",
      "id": "f5427e65",
      "metadata": {
        "id": "f5427e65"
      },
      "source": [
        "### **Suggested Workflow for Combined Usage**\n",
        "1. Use **Pandas** to load and preprocess material data.\n",
        "2. Use **SciPy** for curve fitting or solving equations based on physical models.\n",
        "3. Use **scikit-learn** for predictive modeling or clustering."
      ]
    },
    {
      "cell_type": "markdown",
      "id": "290c3f66",
      "metadata": {
        "id": "290c3f66"
      },
      "source": [
        "**Practice Questions:**\n",
        "- Perform clustering on material densities using `KMeans` in scikit-learn.\n",
        "- Use logistic regression to classify materials as metal or polymer based on their density and thermal conductivity.\n",
        "- Use `scipy.optimize` to minimize the cost function of material production based on given parameters.\n",
        "- Solve a second-order differential equation describing a spring-mass-damper system in materials testing."
      ]
    },
    {
      "cell_type": "code",
      "execution_count": null,
      "id": "051e5fac",
      "metadata": {
        "id": "051e5fac"
      },
      "outputs": [],
      "source": []
    }
  ],
  "metadata": {
    "kernelspec": {
      "display_name": "Python 3 (ipykernel)",
      "language": "python",
      "name": "python3"
    },
    "language_info": {
      "codemirror_mode": {
        "name": "ipython",
        "version": 3
      },
      "file_extension": ".py",
      "mimetype": "text/x-python",
      "name": "python",
      "nbconvert_exporter": "python",
      "pygments_lexer": "ipython3",
      "version": "3.9.17"
    },
    "colab": {
      "provenance": []
    }
  },
  "nbformat": 4,
  "nbformat_minor": 5
}