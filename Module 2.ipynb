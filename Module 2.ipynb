{
  "cells": [
    {
      "cell_type": "markdown",
      "id": "b5bf22df",
      "metadata": {
        "id": "b5bf22df"
      },
      "source": [
        "# MSE 497 - Python for Materials Engineers\n",
        "#### Instructors: Arun Mannodi and Michael Titus\n",
        "## Module 2 - Python Libraries and Data Handling"
      ]
    },
    {
      "cell_type": "markdown",
      "id": "77d283a3",
      "metadata": {
        "id": "77d283a3"
      },
      "source": [
        "## **1. Introduction to NumPy**\n",
        "\n",
        "**Why NumPy?**\n",
        "- Efficient handling of numerical data for scientific computing.\n",
        "- Arrays are faster and more versatile than Python lists for large datasets.\n",
        "\n",
        "**Key Features:**\n",
        "- Arrays: Multidimensional, homogeneous data structures.\n",
        "- Mathematical operations on arrays (vectorized operations).\n",
        "- Useful functions: `mean()`, `std()`, `linspace()`, `arange()`."
      ]
    },
    {
      "cell_type": "code",
      "execution_count": 9,
      "id": "dbd9515c",
      "metadata": {
        "id": "dbd9515c",
        "outputId": "a4771957-3732-4e82-b385-80c4d2c10c03",
        "colab": {
          "base_uri": "https://localhost:8080/",
          "height": 211
        }
      },
      "outputs": [
        {
          "output_type": "error",
          "ename": "ValueError",
          "evalue": "operands could not be broadcast together with shapes (4,) (3,) ",
          "traceback": [
            "\u001b[0;31m---------------------------------------------------------------------------\u001b[0m",
            "\u001b[0;31mValueError\u001b[0m                                Traceback (most recent call last)",
            "\u001b[0;32m<ipython-input-9-ab3c06f2e9b8>\u001b[0m in \u001b[0;36m<cell line: 0>\u001b[0;34m()\u001b[0m\n\u001b[1;32m      6\u001b[0m \u001b[0;34m\u001b[0m\u001b[0m\n\u001b[1;32m      7\u001b[0m \u001b[0;31m# Calculate masses\u001b[0m\u001b[0;34m\u001b[0m\u001b[0;34m\u001b[0m\u001b[0m\n\u001b[0;32m----> 8\u001b[0;31m \u001b[0mmasses\u001b[0m \u001b[0;34m=\u001b[0m \u001b[0mdensities\u001b[0m \u001b[0;34m*\u001b[0m \u001b[0mvolumes\u001b[0m\u001b[0;34m\u001b[0m\u001b[0;34m\u001b[0m\u001b[0m\n\u001b[0m\u001b[1;32m      9\u001b[0m \u001b[0mprint\u001b[0m\u001b[0;34m(\u001b[0m\u001b[0;34m\"Masses (kg):\"\u001b[0m\u001b[0;34m,\u001b[0m \u001b[0mmasses\u001b[0m\u001b[0;34m)\u001b[0m\u001b[0;34m\u001b[0m\u001b[0;34m\u001b[0m\u001b[0m\n\u001b[1;32m     10\u001b[0m \u001b[0;34m\u001b[0m\u001b[0m\n",
            "\u001b[0;31mValueError\u001b[0m: operands could not be broadcast together with shapes (4,) (3,) "
          ]
        }
      ],
      "source": [
        "import numpy as np\n",
        "\n",
        "# Example: Densities of materials (kg/m^3)\n",
        "densities = np.array([7850, 2700, 1200])  # Steel, Aluminum, Polymer\n",
        "volumes = np.array([0.01, 0.02, 0.05])  # m^3\n",
        "\n",
        "# Calculate masses\n",
        "masses = densities * volumes\n",
        "print(\"Masses (kg):\", masses)\n",
        "\n",
        "# Statistical analysis\n",
        "mean_density = np.mean(densities)\n",
        "print(\"Mean Density:\", mean_density, \"kg/m^3\")"
      ]
    },
    {
      "cell_type": "code",
      "source": [],
      "metadata": {
        "id": "VwxwJTlo_BKc",
        "outputId": "4344e413-b7d1-489c-a5f6-92d72a63f64b",
        "colab": {
          "base_uri": "https://localhost:8080/"
        }
      },
      "id": "VwxwJTlo_BKc",
      "execution_count": 11,
      "outputs": [
        {
          "output_type": "execute_result",
          "data": {
            "text/plain": [
              "array([ 0. ,  2.5,  5. ,  7.5, 10. ])"
            ]
          },
          "metadata": {},
          "execution_count": 11
        }
      ]
    },
    {
      "cell_type": "markdown",
      "id": "55e8e32c",
      "metadata": {
        "id": "55e8e32c"
      },
      "source": [
        "## **2. Introduction to Pandas**\n",
        "\n",
        "**Why Pandas?**\n",
        "- Easy manipulation and analysis of tabular data (like Excel).\n",
        "- Data structures: `DataFrame` (tables) and `Series` (columns).\n",
        "\n",
        "**Key Features:**\n",
        "- Import/export data (`read_csv()`, `to_csv()`).\n",
        "- Data filtering, grouping, and summarization."
      ]
    },
    {
      "cell_type": "code",
      "execution_count": 12,
      "id": "856af45f",
      "metadata": {
        "id": "856af45f",
        "outputId": "b519de52-3311-4b0e-e75e-0e5464d60b57",
        "colab": {
          "base_uri": "https://localhost:8080/"
        }
      },
      "outputs": [
        {
          "output_type": "stream",
          "name": "stdout",
          "text": [
            "   Material  Density (kg/m^3)  Thermal Conductivity (W/mK)\n",
            "0     Steel              7850                        50.20\n",
            "1  Aluminum              2700                       205.00\n",
            "2   Polymer              1200                         0.25\n",
            "Mean Thermal Conductivity: 85.14999999999999\n",
            "\n",
            "Dense Materials:\n",
            "   Material  Density (kg/m^3)  Thermal Conductivity (W/mK)\n",
            "0     Steel              7850                         50.2\n",
            "1  Aluminum              2700                        205.0\n"
          ]
        }
      ],
      "source": [
        "import pandas as pd\n",
        "\n",
        "# Example: Create a DataFrame for material properties\n",
        "data = {\n",
        "    \"Material\": [\"Steel\", \"Aluminum\", \"Polymer\"],\n",
        "    \"Density (kg/m^3)\": [7850, 2700, 1200],\n",
        "    \"Thermal Conductivity (W/mK)\": [50.2, 205, 0.25]\n",
        "}\n",
        "\n",
        "df = pd.DataFrame(data)\n",
        "\n",
        "# Display the DataFrame\n",
        "print(df)\n",
        "\n",
        "# Calculate mean thermal conductivity\n",
        "mean_tc = df[\"Thermal Conductivity (W/mK)\"].mean()\n",
        "print(\"Mean Thermal Conductivity:\", mean_tc)\n",
        "\n",
        "# Filter materials with density > 2000 kg/m^3\n",
        "dense_materials = df[df[\"Density (kg/m^3)\"] > 2000]\n",
        "print(\"\\nDense Materials:\")\n",
        "print(dense_materials)"
      ]
    },
    {
      "cell_type": "code",
      "source": [
        "df.to_csv(\"material_properties.csv\")"
      ],
      "metadata": {
        "id": "k2MipYh-Bocw"
      },
      "id": "k2MipYh-Bocw",
      "execution_count": 18,
      "outputs": []
    },
    {
      "cell_type": "code",
      "source": [
        "file = pd.read_csv(\"file.csv\")"
      ],
      "metadata": {
        "id": "zkLRxhlGCYf1"
      },
      "id": "zkLRxhlGCYf1",
      "execution_count": 19,
      "outputs": []
    },
    {
      "cell_type": "code",
      "source": [
        "df2 = pd.DataFrame(file)"
      ],
      "metadata": {
        "id": "Qal7j1nICfW5"
      },
      "id": "Qal7j1nICfW5",
      "execution_count": 20,
      "outputs": []
    },
    {
      "cell_type": "markdown",
      "id": "b58f8e9b",
      "metadata": {
        "id": "b58f8e9b"
      },
      "source": [
        "## **3. Introduction to Matplotlib**\n",
        "\n",
        "**Why Matplotlib?**\n",
        "- Create visualizations for data analysis and presentation.\n",
        "- Useful for plotting trends, distributions, and comparisons.\n",
        "\n",
        "**Key Features:**\n",
        "- `plot()`: Line plots.\n",
        "- `scatter()`: Scatter plots.\n",
        "- `bar()`: Bar charts.\n",
        "- Customization: Titles, labels, legends."
      ]
    },
    {
      "cell_type": "code",
      "execution_count": 55,
      "id": "61549663",
      "metadata": {
        "id": "61549663",
        "outputId": "7663c62c-76dc-482c-bc36-5ad59e054334",
        "colab": {
          "base_uri": "https://localhost:8080/",
          "height": 472
        }
      },
      "outputs": [
        {
          "output_type": "display_data",
          "data": {
            "text/plain": [
              "<Figure size 640x480 with 1 Axes>"
            ],
            "image/png": "[encoded data removed]"
          },
          "metadata": {}
        }
      ],
      "source": [
        "import matplotlib.pyplot as plt\n",
        "\n",
        "# Example: Density and Thermal Conductivity\n",
        "materials = [\"Steel\", \"Aluminum\", \"Polymer\"]\n",
        "densities = [7850, 2700, 1200]\n",
        "thermal_conductivities = [50.2, 205, 0.25]\n",
        "temperature = [100,1000,2000]\n",
        "\n",
        "# Bar chart for densities\n",
        "# plt.bar(materials, densities, color=\"salmon\", width=0.8)\n",
        "# plt.title(\"Material Densities\", fontsize=24)\n",
        "# plt.ylabel(\"Density (kg/m^3)\")\n",
        "# plt.xlabel(\"Materials\")\n",
        "# plt.xlim(-0.8, 2.8)\n",
        "# plt.ylim(0, 10000)\n",
        "# plt.savefig(\"material_densities.png\")\n",
        "# plt.show()\n",
        "\n",
        "# Scatter plot for thermal conductivity\n",
        "plt.scatter(densities, thermal_conductivities, color=\"red\", label='Cond')\n",
        "plt.scatter(densities, temperature, color=\"blue\", label='Temp')\n",
        "plt.title(\"Thermal Conductivity vs Density\")\n",
        "plt.xlabel(\"Density (kg/m^3)\")\n",
        "plt.ylabel(\"Thermal Conductivity or Temperature\")\n",
        "plt.grid(True)\n",
        "#plt.legend([\"Cond\", \"Temp\"], loc=(0.9,0.5))\n",
        "plt.legend()\n",
        "plt.show()"
      ]
    },
    {
      "cell_type": "code",
      "source": [
        "plt.plot(densities, thermal_conductivities, color=\"red\", label='Cond', marker=\"*\", markersize=20)\n",
        "plt.plot(densities, temperature, color=\"blue\", label='Temp', marker=\"^\", markersize=10)"
      ],
      "metadata": {
        "id": "5hXtKNfPHZoa",
        "outputId": "9884d7bf-c7f2-45d0-8057-b827c4265795",
        "colab": {
          "base_uri": "https://localhost:8080/",
          "height": 447
        }
      },
      "id": "5hXtKNfPHZoa",
      "execution_count": 66,
      "outputs": [
        {
          "output_type": "execute_result",
          "data": {
            "text/plain": [
              "[<matplotlib.lines.Line2D at 0x7b9924760c10>]"
            ]
          },
          "metadata": {},
          "execution_count": 66
        },
        {
          "output_type": "display_data",
          "data": {
            "text/plain": [
              "<Figure size 640x480 with 1 Axes>"
            ],
            "image/png": "[encoded data removed]"
          },
          "metadata": {}
        }
      ]
    },
    {
      "cell_type": "markdown",
      "id": "c4696f1c",
      "metadata": {
        "id": "c4696f1c"
      },
      "source": [
        "## **Suggested Workflow for Combined Usage**\n",
        "1. Use **Pandas** to load and manipulate material data.\n",
        "2. Use **NumPy** for numerical calculations (e.g., derive new properties).\n",
        "3. Use **Matplotlib** to visualize the results.\n",
        "\n"
      ]
    },
    {
      "cell_type": "code",
      "execution_count": null,
      "id": "47df8daf",
      "metadata": {
        "id": "47df8daf"
      },
      "outputs": [],
      "source": [
        "import pandas as pd\n",
        "import numpy as np\n",
        "import matplotlib.pyplot as plt\n",
        "\n",
        "# Step 1: Load Data\n",
        "data = {\n",
        "    \"Material\": [\"Steel\", \"Aluminum\", \"Polymer\"],\n",
        "    \"Density\": [7850, 2700, 1200],\n",
        "    \"Thermal Conductivity\": [50.2, 205, 0.25]\n",
        "}\n",
        "df = pd.DataFrame(data)\n",
        "\n",
        "# Step 2: Numerical Analysis\n",
        "densities = df[\"Density\"].to_numpy()\n",
        "thermal_conductivities = df[\"Thermal Conductivity\"].to_numpy()\n",
        "heat_storage = densities * thermal_conductivities\n",
        "\n",
        "# Step 3: Visualization\n",
        "plt.plot(df[\"Material\"], heat_storage, marker=\"o\")\n",
        "plt.title(\"Heat Storage Capacity by Material\")\n",
        "plt.ylabel(\"Heat Storage\")\n",
        "plt.xlabel(\"Material\")\n",
        "plt.show()"
      ]
    },
    {
      "cell_type": "markdown",
      "id": "c87ecbde",
      "metadata": {
        "id": "c87ecbde"
      },
      "source": [
        "**Practice Questions:**\n",
        "- Use NumPy to calculate the thermal energy stored in a material given its heat capacity, mass, and temperature change.\n",
        "- Import a CSV file of material properties, filter materials with tensile strength above 300 MPa, and calculate the average density.\n",
        "- Plot stress-strain curves for different materials using random data and customize the graph (title, labels, legend)."
      ]
    },
    {
      "cell_type": "markdown",
      "id": "866564f6",
      "metadata": {
        "id": "866564f6"
      },
      "source": [
        "## **4. Introduction to Scikit-learn**\n",
        "\n",
        "**Why Scikit-learn?**\n",
        "- A powerful library for machine learning and data analysis.\n",
        "- Ideal for regression, classification, clustering, and preprocessing tasks.\n",
        "\n",
        "**Key Features:**\n",
        "- Simple APIs for implementing machine learning models.\n",
        "- Includes tools for data preprocessing, model training, evaluation, and prediction.\n",
        "\n"
      ]
    },
    {
      "cell_type": "code",
      "execution_count": null,
      "id": "d662c666",
      "metadata": {
        "id": "d662c666"
      },
      "outputs": [],
      "source": [
        "#Linear Regression: Predicting Strength from Density**\n",
        "from sklearn.linear_model import LinearRegression\n",
        "import numpy as np\n",
        "\n",
        "# Data: Densities (kg/m^3) and Strengths (MPa)\n",
        "densities = np.array([7850, 2700, 1200, 5000, 2000]).reshape(-1, 1)  # Reshaped for sklearn\n",
        "strengths = np.array([400, 200, 50, 300, 100])  # Corresponding strengths\n",
        "\n",
        "# Model Training\n",
        "model = LinearRegression()\n",
        "model.fit(densities, strengths)\n",
        "\n",
        "# Predictions\n",
        "new_density = np.array([[6000]])  # New material density\n",
        "predicted_strength = model.predict(new_density)\n",
        "print(f\"Predicted Strength for density 6000 kg/m^3: {predicted_strength[0]:.2f} MPa\")\n",
        "\n",
        "\n"
      ]
    },
    {
      "cell_type": "markdown",
      "id": "bae766fa",
      "metadata": {
        "id": "bae766fa"
      },
      "source": [
        "**Key Points:**\n",
        "- Emphasize the simplicity of `.fit()` and `.predict()` methods.\n",
        "- Discuss applications, e.g., predicting properties based on experimental data.\n"
      ]
    },
    {
      "cell_type": "code",
      "execution_count": null,
      "id": "315bf52d",
      "metadata": {
        "id": "315bf52d"
      },
      "outputs": [],
      "source": [
        "#Data Preprocessing with Scikit-learn\n",
        "from sklearn.preprocessing import StandardScaler\n",
        "\n",
        "# Example: Scaling material properties\n",
        "properties = np.array([[7850, 400], [2700, 200], [1200, 50]])  # Density, Strength\n",
        "scaler = StandardScaler()\n",
        "scaled_properties = scaler.fit_transform(properties)\n",
        "print(\"Scaled Properties:\\n\", scaled_properties)"
      ]
    },
    {
      "cell_type": "markdown",
      "id": "071a9880",
      "metadata": {
        "id": "071a9880"
      },
      "source": [
        "## **5. Introduction to SciPy**\n",
        "\n",
        "**Why SciPy?**\n",
        "- A library for scientific computing that builds on NumPy.\n",
        "- Includes modules for optimization, integration, interpolation, signal processing, and more.\n",
        "\n",
        "**Key Features:**\n",
        "- Optimization (`scipy.optimize`)\n",
        "- Integration (`scipy.integrate`)\n",
        "- Solving differential equations (`scipy.integrate.odeint`)\n",
        "- Statistical analysis (`scipy.stats`)\n",
        "\n"
      ]
    },
    {
      "cell_type": "code",
      "execution_count": null,
      "id": "898793c6",
      "metadata": {
        "id": "898793c6"
      },
      "outputs": [],
      "source": [
        "#Curve Fitting (Stress-Strain Relationship)**\n",
        "import numpy as np\n",
        "from scipy.optimize import curve_fit\n",
        "import matplotlib.pyplot as plt\n",
        "\n",
        "# Experimental stress-strain data\n",
        "strain = np.array([0.0, 0.01, 0.02, 0.03, 0.04])\n",
        "stress = np.array([0, 200, 400, 600, 800])\n",
        "\n",
        "# Linear model\n",
        "def linear_model(x, E):\n",
        "    return E * x  # Hooke's law: Stress = E * Strain\n",
        "\n",
        "# Fit the model\n",
        "popt, _ = curve_fit(linear_model, strain, stress)\n",
        "E_fitted = popt[0]\n",
        "print(f\"Fitted Young's Modulus: {E_fitted:.2f} MPa\")\n",
        "\n",
        "# Plot the data and the fitted model\n",
        "plt.scatter(strain, stress, label=\"Data\")\n",
        "plt.plot(strain, linear_model(strain, E_fitted), label=f\"Fitted (E={E_fitted:.2f} MPa)\", color=\"red\")\n",
        "plt.xlabel(\"Strain\")\n",
        "plt.ylabel(\"Stress\")\n",
        "plt.legend()\n",
        "plt.show()"
      ]
    },
    {
      "cell_type": "markdown",
      "id": "6f542c6f",
      "metadata": {
        "id": "6f542c6f"
      },
      "source": [
        "**Key Points:**\n",
        "- Introduce the `curve_fit` method for parameter estimation.\n",
        "- Discuss how to interpret fitted parameters in a materials science context.\n"
      ]
    },
    {
      "cell_type": "code",
      "execution_count": null,
      "id": "03435324",
      "metadata": {
        "id": "03435324"
      },
      "outputs": [],
      "source": [
        "#Solving Differential Equations (Heat Transfer)**\n",
        "from scipy.integrate import odeint\n",
        "import numpy as np\n",
        "import matplotlib.pyplot as plt\n",
        "\n",
        "# Heat transfer model: dT/dt = -k * T\n",
        "def heat_transfer(T, t, k):\n",
        "    return -k * T\n",
        "\n",
        "# Parameters\n",
        "k = 0.1  # Heat transfer coefficient\n",
        "T0 = 100  # Initial temperature\n",
        "time = np.linspace(0, 50, 100)  # Time points\n",
        "\n",
        "# Solve ODE\n",
        "temperature = odeint(heat_transfer, T0, time, args=(k,))\n",
        "\n",
        "# Plot\n",
        "plt.plot(time, temperature)\n",
        "plt.title(\"Cooling Curve\")\n",
        "plt.xlabel(\"Time (s)\")\n",
        "plt.ylabel(\"Temperature (°C)\")\n",
        "plt.show()"
      ]
    },
    {
      "cell_type": "markdown",
      "id": "7a13dc98",
      "metadata": {
        "id": "7a13dc98"
      },
      "source": [
        "**Key Points:**\n",
        "- Highlight SciPy’s versatility for solving physical models.\n",
        "- Relate to practical problems like cooling rates or reaction kinetics."
      ]
    },
    {
      "cell_type": "markdown",
      "id": "f5427e65",
      "metadata": {
        "id": "f5427e65"
      },
      "source": [
        "### **Suggested Workflow for Combined Usage**\n",
        "1. Use **Pandas** to load and preprocess material data.\n",
        "2. Use **SciPy** for curve fitting or solving equations based on physical models.\n",
        "3. Use **scikit-learn** for predictive modeling or clustering."
      ]
    },
    {
      "cell_type": "markdown",
      "id": "290c3f66",
      "metadata": {
        "id": "290c3f66"
      },
      "source": [
        "**Practice Questions:**\n",
        "- Perform clustering on material densities using `KMeans` in scikit-learn.\n",
        "- Use logistic regression to classify materials as metal or polymer based on their density and thermal conductivity.\n",
        "- Use `scipy.optimize` to minimize the cost function of material production based on given parameters.\n",
        "- Solve a second-order differential equation describing a spring-mass-damper system in materials testing."
      ]
    },
    {
      "cell_type": "code",
      "execution_count": null,
      "id": "051e5fac",
      "metadata": {
        "id": "051e5fac"
      },
      "outputs": [],
      "source": []
    }
  ],
  "metadata": {
    "kernelspec": {
      "display_name": "Python 3 (ipykernel)",
      "language": "python",
      "name": "python3"
    },
    "language_info": {
      "codemirror_mode": {
        "name": "ipython",
        "version": 3
      },
      "file_extension": ".py",
      "mimetype": "text/x-python",
      "name": "python",
      "nbconvert_exporter": "python",
      "pygments_lexer": "ipython3",
      "version": "3.9.17"
    },
    "colab": {
      "provenance": []
    }
  },
  "nbformat": 4,
  "nbformat_minor": 5
}