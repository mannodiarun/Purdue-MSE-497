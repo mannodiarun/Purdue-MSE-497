{
 "cells": [
  {
   "cell_type": "markdown",
   "id": "b5bf22df",
   "metadata": {},
   "source": [
    "# MSE 497 - Python for Materials Engineers\n",
    "#### Instructors: Arun Mannodi and Michael Titus\n",
    "## Module 2 - Python Libraries and Data Handling"
   ]
  },
  {
   "cell_type": "markdown",
   "id": "77d283a3",
   "metadata": {},
   "source": [
    "## **1. Introduction to NumPy**\n",
    "\n",
    "**Why NumPy?**\n",
    "- Efficient handling of numerical data for scientific computing.\n",
    "- Arrays are faster and more versatile than Python lists for large datasets.\n",
    "\n",
    "**Key Features:**\n",
    "- Arrays: Multidimensional, homogeneous data structures.\n",
    "- Mathematical operations on arrays (vectorized operations).\n",
    "- Useful functions: `mean()`, `std()`, `linspace()`, `arange()`."
   ]
  },
  {
   "cell_type": "code",
   "execution_count": null,
   "id": "dbd9515c",
   "metadata": {},
   "outputs": [],
   "source": [
    "import numpy as np\n",
    "\n",
    "# Example: Densities of materials (kg/m^3)\n",
    "densities = np.array([7850, 2700, 1200])  # Steel, Aluminum, Polymer\n",
    "volumes = np.array([0.01, 0.02, 0.05])  # m^3\n",
    "\n",
    "# Calculate masses\n",
    "masses = densities * volumes\n",
    "print(\"Masses (kg):\", masses)\n",
    "\n",
    "# Statistical analysis\n",
    "mean_density = np.mean(densities)\n",
    "print(\"Mean Density:\", mean_density, \"kg/m^3\")"
   ]
  },
  {
   "cell_type": "markdown",
   "id": "55e8e32c",
   "metadata": {},
   "source": [
    "## **2. Introduction to Pandas**\n",
    "\n",
    "**Why Pandas?**\n",
    "- Easy manipulation and analysis of tabular data (like Excel).\n",
    "- Data structures: `DataFrame` (tables) and `Series` (columns).\n",
    "\n",
    "**Key Features:**\n",
    "- Import/export data (`read_csv()`, `to_csv()`).\n",
    "- Data filtering, grouping, and summarization."
   ]
  },
  {
   "cell_type": "code",
   "execution_count": null,
   "id": "856af45f",
   "metadata": {},
   "outputs": [],
   "source": [
    "import pandas as pd\n",
    "\n",
    "# Example: Create a DataFrame for material properties\n",
    "data = {\n",
    "    \"Material\": [\"Steel\", \"Aluminum\", \"Polymer\"],\n",
    "    \"Density (kg/m^3)\": [7850, 2700, 1200],\n",
    "    \"Thermal Conductivity (W/mK)\": [50.2, 205, 0.25]\n",
    "}\n",
    "\n",
    "df = pd.DataFrame(data)\n",
    "\n",
    "# Display the DataFrame\n",
    "print(df)\n",
    "\n",
    "# Calculate mean thermal conductivity\n",
    "mean_tc = df[\"Thermal Conductivity (W/mK)\"].mean()\n",
    "print(\"Mean Thermal Conductivity:\", mean_tc)\n",
    "\n",
    "# Filter materials with density > 2000 kg/m^3\n",
    "dense_materials = df[df[\"Density (kg/m^3)\"] > 2000]\n",
    "print(\"\\nDense Materials:\")\n",
    "print(dense_materials)"
   ]
  },
  {
   "cell_type": "markdown",
   "id": "b58f8e9b",
   "metadata": {},
   "source": [
    "## **3. Introduction to Matplotlib**\n",
    "\n",
    "**Why Matplotlib?**\n",
    "- Create visualizations for data analysis and presentation.\n",
    "- Useful for plotting trends, distributions, and comparisons.\n",
    "\n",
    "**Key Features:**\n",
    "- `plot()`: Line plots.\n",
    "- `scatter()`: Scatter plots.\n",
    "- `bar()`: Bar charts.\n",
    "- Customization: Titles, labels, legends."
   ]
  },
  {
   "cell_type": "code",
   "execution_count": null,
   "id": "61549663",
   "metadata": {},
   "outputs": [],
   "source": [
    "import matplotlib.pyplot as plt\n",
    "\n",
    "# Example: Density and Thermal Conductivity\n",
    "materials = [\"Steel\", \"Aluminum\", \"Polymer\"]\n",
    "densities = [7850, 2700, 1200]\n",
    "thermal_conductivities = [50.2, 205, 0.25]\n",
    "\n",
    "# Bar chart for densities\n",
    "plt.bar(materials, densities, color=\"blue\")\n",
    "plt.title(\"Material Densities\")\n",
    "plt.ylabel(\"Density (kg/m^3)\")\n",
    "plt.xlabel(\"Materials\")\n",
    "plt.show()\n",
    "\n",
    "# Scatter plot for thermal conductivity\n",
    "plt.scatter(densities, thermal_conductivities, color=\"red\")\n",
    "plt.title(\"Thermal Conductivity vs Density\")\n",
    "plt.xlabel(\"Density (kg/m^3)\")\n",
    "plt.ylabel(\"Thermal Conductivity (W/mK)\")\n",
    "plt.show()"
   ]
  },
  {
   "cell_type": "markdown",
   "id": "c4696f1c",
   "metadata": {},
   "source": [
    "## **Suggested Workflow for Combined Usage**\n",
    "1. Use **Pandas** to load and manipulate material data.\n",
    "2. Use **NumPy** for numerical calculations (e.g., derive new properties).\n",
    "3. Use **Matplotlib** to visualize the results.\n",
    "\n"
   ]
  },
  {
   "cell_type": "code",
   "execution_count": null,
   "id": "47df8daf",
   "metadata": {},
   "outputs": [],
   "source": [
    "import pandas as pd\n",
    "import numpy as np\n",
    "import matplotlib.pyplot as plt\n",
    "\n",
    "# Step 1: Load Data\n",
    "data = {\n",
    "    \"Material\": [\"Steel\", \"Aluminum\", \"Polymer\"],\n",
    "    \"Density\": [7850, 2700, 1200],\n",
    "    \"Thermal Conductivity\": [50.2, 205, 0.25]\n",
    "}\n",
    "df = pd.DataFrame(data)\n",
    "\n",
    "# Step 2: Numerical Analysis\n",
    "densities = df[\"Density\"].to_numpy()\n",
    "thermal_conductivities = df[\"Thermal Conductivity\"].to_numpy()\n",
    "heat_storage = densities * thermal_conductivities\n",
    "\n",
    "# Step 3: Visualization\n",
    "plt.plot(df[\"Material\"], heat_storage, marker=\"o\")\n",
    "plt.title(\"Heat Storage Capacity by Material\")\n",
    "plt.ylabel(\"Heat Storage\")\n",
    "plt.xlabel(\"Material\")\n",
    "plt.show()"
   ]
  },
  {
   "cell_type": "markdown",
   "id": "c87ecbde",
   "metadata": {},
   "source": [
    "**Practice Questions:**\n",
    "- Use NumPy to calculate the thermal energy stored in a material given its heat capacity, mass, and temperature change.\n",
    "- Import a CSV file of material properties, filter materials with tensile strength above 300 MPa, and calculate the average density.\n",
    "- Plot stress-strain curves for different materials using random data and customize the graph (title, labels, legend)."
   ]
  },
  {
   "cell_type": "markdown",
   "id": "866564f6",
   "metadata": {},
   "source": [
    "## **4. Introduction to Scikit-learn**\n",
    "\n",
    "**Why Scikit-learn?**\n",
    "- A powerful library for machine learning and data analysis.\n",
    "- Ideal for regression, classification, clustering, and preprocessing tasks.\n",
    "\n",
    "**Key Features:**\n",
    "- Simple APIs for implementing machine learning models.\n",
    "- Includes tools for data preprocessing, model training, evaluation, and prediction.\n",
    "\n"
   ]
  },
  {
   "cell_type": "code",
   "execution_count": null,
   "id": "d662c666",
   "metadata": {},
   "outputs": [],
   "source": [
    "#Linear Regression: Predicting Strength from Density**\n",
    "from sklearn.linear_model import LinearRegression\n",
    "import numpy as np\n",
    "\n",
    "# Data: Densities (kg/m^3) and Strengths (MPa)\n",
    "densities = np.array([7850, 2700, 1200, 5000, 2000]).reshape(-1, 1)  # Reshaped for sklearn\n",
    "strengths = np.array([400, 200, 50, 300, 100])  # Corresponding strengths\n",
    "\n",
    "# Model Training\n",
    "model = LinearRegression()\n",
    "model.fit(densities, strengths)\n",
    "\n",
    "# Predictions\n",
    "new_density = np.array([[6000]])  # New material density\n",
    "predicted_strength = model.predict(new_density)\n",
    "print(f\"Predicted Strength for density 6000 kg/m^3: {predicted_strength[0]:.2f} MPa\")\n",
    "\n",
    "\n"
   ]
  },
  {
   "cell_type": "markdown",
   "id": "bae766fa",
   "metadata": {},
   "source": [
    "**Key Points:**\n",
    "- Emphasize the simplicity of `.fit()` and `.predict()` methods.\n",
    "- Discuss applications, e.g., predicting properties based on experimental data.\n"
   ]
  },
  {
   "cell_type": "code",
   "execution_count": null,
   "id": "315bf52d",
   "metadata": {},
   "outputs": [],
   "source": [
    "#Data Preprocessing with Scikit-learn\n",
    "from sklearn.preprocessing import StandardScaler\n",
    "\n",
    "# Example: Scaling material properties\n",
    "properties = np.array([[7850, 400], [2700, 200], [1200, 50]])  # Density, Strength\n",
    "scaler = StandardScaler()\n",
    "scaled_properties = scaler.fit_transform(properties)\n",
    "print(\"Scaled Properties:\\n\", scaled_properties)"
   ]
  },
  {
   "cell_type": "markdown",
   "id": "071a9880",
   "metadata": {},
   "source": [
    "## **5. Introduction to SciPy**\n",
    "\n",
    "**Why SciPy?**\n",
    "- A library for scientific computing that builds on NumPy.\n",
    "- Includes modules for optimization, integration, interpolation, signal processing, and more.\n",
    "\n",
    "**Key Features:**\n",
    "- Optimization (`scipy.optimize`)\n",
    "- Integration (`scipy.integrate`)\n",
    "- Solving differential equations (`scipy.integrate.odeint`)\n",
    "- Statistical analysis (`scipy.stats`)\n",
    "\n"
   ]
  },
  {
   "cell_type": "code",
   "execution_count": null,
   "id": "898793c6",
   "metadata": {},
   "outputs": [],
   "source": [
    "#Curve Fitting (Stress-Strain Relationship)**\n",
    "import numpy as np\n",
    "from scipy.optimize import curve_fit\n",
    "import matplotlib.pyplot as plt\n",
    "\n",
    "# Experimental stress-strain data\n",
    "strain = np.array([0.0, 0.01, 0.02, 0.03, 0.04])\n",
    "stress = np.array([0, 200, 400, 600, 800])\n",
    "\n",
    "# Linear model\n",
    "def linear_model(x, E):\n",
    "    return E * x  # Hooke's law: Stress = E * Strain\n",
    "\n",
    "# Fit the model\n",
    "popt, _ = curve_fit(linear_model, strain, stress)\n",
    "E_fitted = popt[0]\n",
    "print(f\"Fitted Young's Modulus: {E_fitted:.2f} MPa\")\n",
    "\n",
    "# Plot the data and the fitted model\n",
    "plt.scatter(strain, stress, label=\"Data\")\n",
    "plt.plot(strain, linear_model(strain, E_fitted), label=f\"Fitted (E={E_fitted:.2f} MPa)\", color=\"red\")\n",
    "plt.xlabel(\"Strain\")\n",
    "plt.ylabel(\"Stress\")\n",
    "plt.legend()\n",
    "plt.show()"
   ]
  },
  {
   "cell_type": "markdown",
   "id": "6f542c6f",
   "metadata": {},
   "source": [
    "**Key Points:**\n",
    "- Introduce the `curve_fit` method for parameter estimation.\n",
    "- Discuss how to interpret fitted parameters in a materials science context.\n"
   ]
  },
  {
   "cell_type": "code",
   "execution_count": null,
   "id": "03435324",
   "metadata": {},
   "outputs": [],
   "source": [
    "#Solving Differential Equations (Heat Transfer)**\n",
    "from scipy.integrate import odeint\n",
    "import numpy as np\n",
    "import matplotlib.pyplot as plt\n",
    "\n",
    "# Heat transfer model: dT/dt = -k * T\n",
    "def heat_transfer(T, t, k):\n",
    "    return -k * T\n",
    "\n",
    "# Parameters\n",
    "k = 0.1  # Heat transfer coefficient\n",
    "T0 = 100  # Initial temperature\n",
    "time = np.linspace(0, 50, 100)  # Time points\n",
    "\n",
    "# Solve ODE\n",
    "temperature = odeint(heat_transfer, T0, time, args=(k,))\n",
    "\n",
    "# Plot\n",
    "plt.plot(time, temperature)\n",
    "plt.title(\"Cooling Curve\")\n",
    "plt.xlabel(\"Time (s)\")\n",
    "plt.ylabel(\"Temperature (°C)\")\n",
    "plt.show()"
   ]
  },
  {
   "cell_type": "markdown",
   "id": "7a13dc98",
   "metadata": {},
   "source": [
    "**Key Points:**\n",
    "- Highlight SciPy’s versatility for solving physical models.\n",
    "- Relate to practical problems like cooling rates or reaction kinetics."
   ]
  },
  {
   "cell_type": "markdown",
   "id": "f5427e65",
   "metadata": {},
   "source": [
    "### **Suggested Workflow for Combined Usage**\n",
    "1. Use **Pandas** to load and preprocess material data.\n",
    "2. Use **SciPy** for curve fitting or solving equations based on physical models.\n",
    "3. Use **scikit-learn** for predictive modeling or clustering."
   ]
  },
  {
   "cell_type": "markdown",
   "id": "290c3f66",
   "metadata": {},
   "source": [
    "**Practice Questions:**\n",
    "- Perform clustering on material densities using `KMeans` in scikit-learn.\n",
    "- Use logistic regression to classify materials as metal or polymer based on their density and thermal conductivity.\n",
    "- Use `scipy.optimize` to minimize the cost function of material production based on given parameters.\n",
    "- Solve a second-order differential equation describing a spring-mass-damper system in materials testing."
   ]
  },
  {
   "cell_type": "code",
   "execution_count": null,
   "id": "051e5fac",
   "metadata": {},
   "outputs": [],
   "source": []
  }
 ],
 "metadata": {
  "kernelspec": {
   "display_name": "Python 3 (ipykernel)",
   "language": "python",
   "name": "python3"
  },
  "language_info": {
   "codemirror_mode": {
    "name": "ipython",
    "version": 3
   },
   "file_extension": ".py",
   "mimetype": "text/x-python",
   "name": "python",
   "nbconvert_exporter": "python",
   "pygments_lexer": "ipython3",
   "version": "3.9.17"
  }
 },
 "nbformat": 4,
 "nbformat_minor": 5
}
