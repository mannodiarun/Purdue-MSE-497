{
 "cells": [
  {
   "cell_type": "markdown",
   "id": "e30989dc",
   "metadata": {},
   "source": [
    "# MSE 497 - Python for Materials Engineers\n",
    "#### Instructors: Arun Mannodi and Michael Titus\n",
    "## Module 1 - Basics of Python"
   ]
  },
  {
   "cell_type": "markdown",
   "id": "16698271",
   "metadata": {},
   "source": [
    "## **1. Variables and Data Types**\n",
    "**Concept Explanation:**\n",
    "- Variables are used to store information for later use. In Python, you don’t need to declare the type; it’s inferred automatically.\n",
    "- Common data types:\n",
    "  - `int`: Whole numbers (e.g., 10, -5).\n",
    "  - `float`: Decimal numbers (e.g., 3.14, -0.001).\n",
    "  - `string`: Text enclosed in quotes (e.g., \"steel\", \"2025\").\n",
    "  - `list`: Ordered collection of items (e.g., `[1, 2, 3]`, `[\"Aluminum\", \"Copper\"]`).\n"
   ]
  },
  {
   "cell_type": "code",
   "execution_count": 14,
   "id": "d11e1d7d",
   "metadata": {},
   "outputs": [
    {
     "name": "stdout",
     "output_type": "stream",
     "text": [
      "Material Name: Steel\n",
      "Density (kg/m^3): 7850\n",
      "Thermal Conductivity (W/mK): 50.2\n",
      "Major Components: ['Iron', 'Carbon', 'Manganese']\n"
     ]
    }
   ],
   "source": [
    "# Example: Storing material properties\n",
    "material_name = \"Steel\"  # string\n",
    "density = 7850  # int, in kg/m^3\n",
    "thermal_conductivity = 50.2  # float, in W/mK\n",
    "components = [\"Iron\", \"Carbon\", \"Manganese\"]  # list\n",
    "\n",
    "# Displaying the variables\n",
    "print(\"Material Name:\", material_name)\n",
    "print(\"Density (kg/m^3):\", density)\n",
    "print(\"Thermal Conductivity (W/mK):\", thermal_conductivity)\n",
    "print(\"Major Components:\", components)"
   ]
  },
  {
   "cell_type": "markdown",
   "id": "30de019d",
   "metadata": {},
   "source": [
    "### Key Points:\n",
    "\n",
    "- Use descriptive variable names (e.g., density instead of d).\n",
    "\n",
    "- Python is dynamically typed, so no need to specify int, float, etc."
   ]
  },
  {
   "cell_type": "markdown",
   "id": "b2f04170",
   "metadata": {},
   "source": [
    "## **2. Basic Operators**\n",
    "**Concept Explanation:**\n",
    "- Operators perform actions on variables.\n",
    "- Arithmetic operators:\n",
    "  - `+` (addition), `-` (subtraction), `*` (multiplication), `/` (division)\n",
    "  - `%` (modulus, remainder), `**` (exponentiation)"
   ]
  },
  {
   "cell_type": "code",
   "execution_count": 2,
   "id": "9605d1d3",
   "metadata": {},
   "outputs": [
    {
     "name": "stdout",
     "output_type": "stream",
     "text": [
      "Density: 5000.0 kg/m^3\n",
      "Pressure: 5.0 Pa\n",
      "Stress Factor: 8\n",
      "Modulus (17 % 5): 2\n"
     ]
    }
   ],
   "source": [
    "# Example: Basic material calculations\n",
    "mass = 50  # kg\n",
    "volume = 0.01  # m^3\n",
    "\n",
    "# Density calculation\n",
    "density = mass / volume  # division\n",
    "print(\"Density:\", density, \"kg/m^3\")\n",
    "\n",
    "# Other operations\n",
    "area = 5 * 2  # multiplication\n",
    "pressure = mass / area  # division\n",
    "print(\"Pressure:\", pressure, \"Pa\")\n",
    "\n",
    "# Exponentiation\n",
    "stress_factor = 2 ** 3  # 2 raised to the power of 3\n",
    "print(\"Stress Factor:\", stress_factor)\n",
    "\n",
    "# Modulus\n",
    "modulus_example = 17 % 5\n",
    "print(\"Modulus (17 % 5):\", modulus_example)"
   ]
  },
  {
   "cell_type": "markdown",
   "id": "df0128a1",
   "metadata": {},
   "source": [
    "### Key Points:\n",
    "\n",
    "- Emphasize practical usage (e.g., density and stress calculations).\n",
    "- Operator precedence (e.g., ** happens before * or /)."
   ]
  },
  {
   "cell_type": "markdown",
   "id": "62e63740",
   "metadata": {},
   "source": [
    "## **3. Input and Output**\n",
    "**Concept Explanation:**\n",
    "- `input()`: Accepts user input as a string.\n",
    "- `print()`: Displays output."
   ]
  },
  {
   "cell_type": "code",
   "execution_count": 3,
   "id": "78ce315c",
   "metadata": {},
   "outputs": [
    {
     "name": "stdout",
     "output_type": "stream",
     "text": [
      "Enter the mass of the material (kg): 20\n",
      "Enter the volume of the material (m^3): 1\n",
      "The calculated density is: 20.0 kg/m^3\n"
     ]
    }
   ],
   "source": [
    "# Example: Interactive density calculator\n",
    "mass = float(input(\"Enter the mass of the material (kg): \"))\n",
    "volume = float(input(\"Enter the volume of the material (m^3): \"))\n",
    "\n",
    "# Density calculation\n",
    "density = mass / volume\n",
    "print(\"The calculated density is:\", density, \"kg/m^3\")"
   ]
  },
  {
   "cell_type": "markdown",
   "id": "c339cc4d",
   "metadata": {},
   "source": [
    "## **4. Control Structures: Conditional Statements (`if`, `elif`, `else`)**\n",
    "\n",
    "**Concept Explanation:**\n",
    "- Conditional statements allow programs to make decisions based on conditions."
   ]
  },
  {
   "cell_type": "code",
   "execution_count": 5,
   "id": "47cd1414",
   "metadata": {},
   "outputs": [
    {
     "name": "stdout",
     "output_type": "stream",
     "text": [
      "Enter the density of the material (kg/m^3): 6000\n",
      "The material is likely a metal.\n"
     ]
    }
   ],
   "source": [
    "# Example: Classify materials by density\n",
    "density = float(input(\"Enter the density of the material (kg/m^3): \"))\n",
    "\n",
    "if density > 5000:\n",
    "    print(\"The material is likely a metal.\")\n",
    "elif 2000 < density <= 5000:\n",
    "    print(\"The material is likely a ceramic.\")\n",
    "else:\n",
    "    print(\"The material is likely a polymer.\")\n"
   ]
  },
  {
   "cell_type": "markdown",
   "id": "e9e99031",
   "metadata": {},
   "source": [
    "### Key Points:\n",
    "\n",
    "- Use logical operators (>, <, >=, <=, ==, !=) to define conditions.\n",
    "- Indentation is crucial in Python; it defines code blocks."
   ]
  },
  {
   "cell_type": "markdown",
   "id": "9ed8507e",
   "metadata": {},
   "source": [
    "## **5. Control Structures: Loops (`for` and `while`)**\n",
    "\n",
    "**Concept Explanation:**\n",
    "- Loops are used for repetitive tasks.\n",
    "- `for`: Iterates over a sequence (e.g., list, range).\n",
    "- `while`: Repeats as long as a condition is true."
   ]
  },
  {
   "cell_type": "code",
   "execution_count": 7,
   "id": "18e935e4",
   "metadata": {},
   "outputs": [
    {
     "name": "stdout",
     "output_type": "stream",
     "text": [
      "Force (N)    Stress (Pa)\n",
      "10         1000.0    \n",
      "20         2000.0    \n",
      "30         3000.0    \n",
      "40         4000.0    \n",
      "50         5000.0    \n"
     ]
    }
   ],
   "source": [
    "# Example: Calculate stress for different forces\n",
    "forces = [10, 20, 30, 40, 50]  # in N\n",
    "area = 0.01  # in m^2\n",
    "\n",
    "print(\"Force (N)    Stress (Pa)\")\n",
    "for force in forces:\n",
    "    stress = force / area\n",
    "    print(f\"{force:<10} {stress:<10}\")"
   ]
  },
  {
   "cell_type": "code",
   "execution_count": 8,
   "id": "ea341822",
   "metadata": {},
   "outputs": [
    {
     "name": "stdout",
     "output_type": "stream",
     "text": [
      "Current Value: 0.9\n",
      "Current Value: 0.81\n",
      "Current Value: 0.7290000000000001\n",
      "Current Value: 0.6561000000000001\n",
      "Current Value: 0.5904900000000001\n",
      "Current Value: 0.531441\n",
      "Current Value: 0.4782969\n",
      "Current Value: 0.43046721\n",
      "Current Value: 0.387420489\n",
      "Current Value: 0.3486784401\n",
      "Current Value: 0.31381059609\n",
      "Current Value: 0.282429536481\n",
      "Current Value: 0.2541865828329\n",
      "Current Value: 0.22876792454961\n",
      "Current Value: 0.20589113209464902\n",
      "Current Value: 0.1853020188851841\n",
      "Current Value: 0.16677181699666568\n",
      "Current Value: 0.15009463529699912\n",
      "Current Value: 0.1350851717672992\n",
      "Current Value: 0.12157665459056928\n",
      "Current Value: 0.10941898913151235\n",
      "Current Value: 0.09847709021836111\n",
      "Current Value: 0.088629381196525\n"
     ]
    }
   ],
   "source": [
    "# Example: Iterative calculation for material property convergence\n",
    "tolerance = 0.01\n",
    "property_value = 1.0\n",
    "previous_value = 0.0\n",
    "\n",
    "while abs(property_value - previous_value) > tolerance:\n",
    "    previous_value = property_value\n",
    "    property_value = property_value - 0.1 * property_value  # example update\n",
    "    print(f\"Current Value: {property_value}\")\n"
   ]
  },
  {
   "cell_type": "markdown",
   "id": "e0e6dc8f",
   "metadata": {},
   "source": [
    "### Key Points:\n",
    "\n",
    "- Use break to exit a loop prematurely.\n",
    "- Highlight applications, e.g., iterative material property simulations."
   ]
  },
  {
   "cell_type": "markdown",
   "id": "f66ec2fa",
   "metadata": {},
   "source": [
    "## **6. Functions**\n",
    "\n",
    "**Concept Explanation:**\n",
    "- Functions allow reusable blocks of code.\n",
    "- They improve modularity and readability."
   ]
  },
  {
   "cell_type": "code",
   "execution_count": 9,
   "id": "43d3bcce",
   "metadata": {},
   "outputs": [
    {
     "name": "stdout",
     "output_type": "stream",
     "text": [
      "Stress: 2500.0 Pa\n"
     ]
    }
   ],
   "source": [
    "# Example: Function to calculate stress\n",
    "def calculate_stress(force, area):\n",
    "    \"\"\"Calculate stress given force and area.\"\"\"\n",
    "    return force / area\n",
    "\n",
    "# Using the function\n",
    "force = 50  # in N\n",
    "area = 0.02  # in m^2\n",
    "stress = calculate_stress(force, area)\n",
    "print(\"Stress:\", stress, \"Pa\")"
   ]
  },
  {
   "cell_type": "code",
   "execution_count": 10,
   "id": "1d2e9ed4",
   "metadata": {},
   "outputs": [
    {
     "name": "stdout",
     "output_type": "stream",
     "text": [
      "I am global\n",
      "I am local\n"
     ]
    }
   ],
   "source": [
    "# Example: Scope demonstration\n",
    "global_variable = \"I am global\"\n",
    "\n",
    "def show_scope():\n",
    "    local_variable = \"I am local\"\n",
    "    print(global_variable)  # Accessible\n",
    "    print(local_variable)   # Accessible\n",
    "\n",
    "show_scope()\n",
    "# print(local_variable)  # Uncommenting this line will raise an error\n"
   ]
  },
  {
   "cell_type": "code",
   "execution_count": 11,
   "id": "36f05d5d",
   "metadata": {},
   "outputs": [
    {
     "name": "stdout",
     "output_type": "stream",
     "text": [
      "Enter the mass (kg): 200\n",
      "Enter the volume (m^3): 4000\n",
      "The material has a density of 0.05 kg/m^3 and is classified as a Polymer.\n"
     ]
    }
   ],
   "source": [
    "# Example: Modular material analysis\n",
    "def calculate_density(mass, volume):\n",
    "    return mass / volume\n",
    "\n",
    "def classify_material(density):\n",
    "    if density > 5000:\n",
    "        return \"Metal\"\n",
    "    elif 2000 < density <= 5000:\n",
    "        return \"Ceramic\"\n",
    "    else:\n",
    "        return \"Polymer\"\n",
    "\n",
    "# Main Program\n",
    "mass = float(input(\"Enter the mass (kg): \"))\n",
    "volume = float(input(\"Enter the volume (m^3): \"))\n",
    "density = calculate_density(mass, volume)\n",
    "material_type = classify_material(density)\n",
    "\n",
    "print(f\"The material has a density of {density} kg/m^3 and is classified as a {material_type}.\")\n"
   ]
  },
  {
   "cell_type": "markdown",
   "id": "c4245880",
   "metadata": {},
   "source": [
    "### Key Points:\n",
    "\n",
    "- Functions should have a single responsibility.\n",
    "- Discuss the importance of comments and docstrings for clarity."
   ]
  },
  {
   "cell_type": "markdown",
   "id": "11af6caf",
   "metadata": {},
   "source": [
    "## Practice Problems\n",
    "\n",
    "1. **Write a program that accepts the length, width, and height of a material sample and calculates its volume.**\n",
    "2. **Conditional Statements**:  \n",
    "   Write a program that accepts a material's melting temperature and classifies it as:\n",
    "   - Low melting point: $$T_m < 600^\\circ \\text{C}$$\n",
    "   - Medium melting point: $$600^\\circ \\text{C} \\leq T_m < 1200^\\circ \\text{C}$$\n",
    "   - High melting point: $$T_m \\geq 1200^\\circ \\text{C}$$\n",
    "\n",
    "3. **Loops**:  \n",
    "   Use a loop to calculate and print the strain for stresses ranging from 0 to 500 MPa, assuming a modulus of elasticity of 200 GPa.\n",
    "\n",
    "4. **Functions**:  \n",
    "   Write a function `calculate_thermal_conductivity(heat_flux, temp_gradient)` to compute thermal conductivity and use it in a program to analyze data from multiple samples.\n",
    "\n"
   ]
  },
  {
   "cell_type": "code",
   "execution_count": null,
   "id": "b386a18d",
   "metadata": {},
   "outputs": [],
   "source": []
  }
 ],
 "metadata": {
  "kernelspec": {
   "display_name": "Python 3 (ipykernel)",
   "language": "python",
   "name": "python3"
  },
  "language_info": {
   "codemirror_mode": {
    "name": "ipython",
    "version": 3
   },
   "file_extension": ".py",
   "mimetype": "text/x-python",
   "name": "python",
   "nbconvert_exporter": "python",
   "pygments_lexer": "ipython3",
   "version": "3.9.17"
  }
 },
 "nbformat": 4,
 "nbformat_minor": 5
}
